{
  "nbformat": 4,
  "nbformat_minor": 0,
  "metadata": {
    "colab": {
      "provenance": []
    },
    "kernelspec": {
      "name": "python3",
      "display_name": "Python 3"
    },
    "language_info": {
      "name": "python"
    }
  },
  "cells": [
    {
      "cell_type": "markdown",
      "source": [
        "Instalação das bibliotecas `category-encoders` e `catboost`"
      ],
      "metadata": {
        "id": "U1AGuS6iHpEQ"
      }
    },
    {
      "cell_type": "code",
      "source": [
        "!pip install category-encoders catboost"
      ],
      "metadata": {
        "colab": {
          "base_uri": "https://localhost:8080/"
        },
        "id": "f4w9VdPHq57s",
        "outputId": "78525a01-e367-49a6-b2e7-02ef8775608a"
      },
      "execution_count": 1,
      "outputs": [
        {
          "output_type": "stream",
          "name": "stdout",
          "text": [
            "Collecting category-encoders\n",
            "  Downloading category_encoders-2.6.1-py2.py3-none-any.whl (81 kB)\n",
            "\u001b[2K     \u001b[90m━━━━━━━━━━━━━━━━━━━━━━━━━━━━━━━━━━━━━━━━\u001b[0m \u001b[32m81.9/81.9 kB\u001b[0m \u001b[31m1.3 MB/s\u001b[0m eta \u001b[36m0:00:00\u001b[0m\n",
            "\u001b[?25hCollecting catboost\n",
            "  Downloading catboost-1.2-cp310-cp310-manylinux2014_x86_64.whl (98.6 MB)\n",
            "\u001b[2K     \u001b[90m━━━━━━━━━━━━━━━━━━━━━━━━━━━━━━━━━━━━━━━━\u001b[0m \u001b[32m98.6/98.6 MB\u001b[0m \u001b[31m7.6 MB/s\u001b[0m eta \u001b[36m0:00:00\u001b[0m\n",
            "\u001b[?25hRequirement already satisfied: numpy>=1.14.0 in /usr/local/lib/python3.10/dist-packages (from category-encoders) (1.22.4)\n",
            "Requirement already satisfied: scikit-learn>=0.20.0 in /usr/local/lib/python3.10/dist-packages (from category-encoders) (1.2.2)\n",
            "Requirement already satisfied: scipy>=1.0.0 in /usr/local/lib/python3.10/dist-packages (from category-encoders) (1.10.1)\n",
            "Requirement already satisfied: statsmodels>=0.9.0 in /usr/local/lib/python3.10/dist-packages (from category-encoders) (0.13.5)\n",
            "Requirement already satisfied: pandas>=1.0.5 in /usr/local/lib/python3.10/dist-packages (from category-encoders) (1.5.3)\n",
            "Requirement already satisfied: patsy>=0.5.1 in /usr/local/lib/python3.10/dist-packages (from category-encoders) (0.5.3)\n",
            "Requirement already satisfied: graphviz in /usr/local/lib/python3.10/dist-packages (from catboost) (0.20.1)\n",
            "Requirement already satisfied: matplotlib in /usr/local/lib/python3.10/dist-packages (from catboost) (3.7.1)\n",
            "Requirement already satisfied: plotly in /usr/local/lib/python3.10/dist-packages (from catboost) (5.13.1)\n",
            "Requirement already satisfied: six in /usr/local/lib/python3.10/dist-packages (from catboost) (1.16.0)\n",
            "Requirement already satisfied: python-dateutil>=2.8.1 in /usr/local/lib/python3.10/dist-packages (from pandas>=1.0.5->category-encoders) (2.8.2)\n",
            "Requirement already satisfied: pytz>=2020.1 in /usr/local/lib/python3.10/dist-packages (from pandas>=1.0.5->category-encoders) (2022.7.1)\n",
            "Requirement already satisfied: joblib>=1.1.1 in /usr/local/lib/python3.10/dist-packages (from scikit-learn>=0.20.0->category-encoders) (1.3.1)\n",
            "Requirement already satisfied: threadpoolctl>=2.0.0 in /usr/local/lib/python3.10/dist-packages (from scikit-learn>=0.20.0->category-encoders) (3.1.0)\n",
            "Requirement already satisfied: packaging>=21.3 in /usr/local/lib/python3.10/dist-packages (from statsmodels>=0.9.0->category-encoders) (23.1)\n",
            "Requirement already satisfied: contourpy>=1.0.1 in /usr/local/lib/python3.10/dist-packages (from matplotlib->catboost) (1.1.0)\n",
            "Requirement already satisfied: cycler>=0.10 in /usr/local/lib/python3.10/dist-packages (from matplotlib->catboost) (0.11.0)\n",
            "Requirement already satisfied: fonttools>=4.22.0 in /usr/local/lib/python3.10/dist-packages (from matplotlib->catboost) (4.41.0)\n",
            "Requirement already satisfied: kiwisolver>=1.0.1 in /usr/local/lib/python3.10/dist-packages (from matplotlib->catboost) (1.4.4)\n",
            "Requirement already satisfied: pillow>=6.2.0 in /usr/local/lib/python3.10/dist-packages (from matplotlib->catboost) (8.4.0)\n",
            "Requirement already satisfied: pyparsing>=2.3.1 in /usr/local/lib/python3.10/dist-packages (from matplotlib->catboost) (3.1.0)\n",
            "Requirement already satisfied: tenacity>=6.2.0 in /usr/local/lib/python3.10/dist-packages (from plotly->catboost) (8.2.2)\n",
            "Installing collected packages: catboost, category-encoders\n",
            "Successfully installed catboost-1.2 category-encoders-2.6.1\n"
          ]
        }
      ]
    },
    {
      "cell_type": "markdown",
      "source": [
        "Importanto bibliotecas"
      ],
      "metadata": {
        "id": "Wh6qmEbOQ5cE"
      }
    },
    {
      "cell_type": "code",
      "execution_count": 2,
      "metadata": {
        "id": "gHRIE9kVQzGY"
      },
      "outputs": [],
      "source": [
        "import pandas as pd\n",
        "import numpy as np\n",
        "import matplotlib.pyplot as plt\n",
        "import seaborn as sns\n",
        "from statsmodels.stats.outliers_influence import variance_inflation_factor\n",
        "from sklearn.compose import ColumnTransformer\n",
        "from sklearn.pipeline import Pipeline\n",
        "from category_encoders import CatBoostEncoder\n",
        "from sklearn.preprocessing import MinMaxScaler\n",
        "from sklearn.model_selection import KFold, cross_val_score, RandomizedSearchCV\n",
        "from sklearn.linear_model import LinearRegression, Lasso, Ridge, ElasticNet\n",
        "from sklearn.tree import DecisionTreeRegressor\n",
        "from sklearn.ensemble import RandomForestRegressor, GradientBoostingRegressor\n",
        "from catboost import CatBoostRegressor\n",
        "from xgboost import XGBRegressor\n",
        "from lightgbm import LGBMRegressor"
      ]
    },
    {
      "cell_type": "code",
      "source": [
        "import warnings\n",
        "\n",
        "# Ignorar todos os warnings:\n",
        "\n",
        "warnings.filterwarnings(\"ignore\")"
      ],
      "metadata": {
        "id": "Fdg4cbtv_i3o"
      },
      "execution_count": 3,
      "outputs": []
    },
    {
      "cell_type": "code",
      "source": [
        "RANDOM_SEED = 42"
      ],
      "metadata": {
        "id": "9b5WYW2oJ11y"
      },
      "execution_count": 4,
      "outputs": []
    },
    {
      "cell_type": "markdown",
      "source": [
        "# 1. Sobre o desenvolvimento do modelo de previsão de preços dos carros"
      ],
      "metadata": {
        "id": "81OIV0Pcc2TQ"
      }
    },
    {
      "cell_type": "markdown",
      "source": [
        "Para o desenvolvimento do modelo de predição dos valores de carros, é importante notar que trabalha-se com diferentes variáveis e essas variáveis, dependendo do problema, vão se comportar como variáveis independentes (também denominadas como explicativas) ou como variável dependente (resposta ou alvo).\n",
        "\n",
        "Portanto, o modelo a ser desenvolvido tenta predizer valores a partir de outras variáveis. O que configura o uso de **modelos supervisionados**, ou seja, espera-se que o modelo **retorne um valor resposta** de forma que a diferença entre os valores preditos e os valores reais seja minimizada. Os dois principais problemas de modelos de *machine learning* supervisionados são:\n",
        "\n",
        "> * **Classificação:** o objetivo é tentar prever a **categoria a qual a observação pertence.** Ou seja, as variáveis explicativas são usadas para prever a que grupo aquela observação faz parte. Alguns exemplos são: detecção de fraudes, detecção de doenças, problemas envolvendo *churn*, detecção de *spam*.\n",
        ">\n",
        "> * **Regressão:** nesse caso o objetivo é prever um **valor numérico contínuo** tendo como base as variáveis de entrada. São exemplos mais comuns desse tipo de modelo: previsão de preços de casas, preços de carros, previsão de demanda, lucros ou custos.\n",
        "\n",
        "Portanto, o modelo que será desenvolvido nesse *notebook*, dado que deseja-se prever preços de automóveis, ou seja, **valores numéricos contínuos**, será um modelo supervisionado de regressão."
      ],
      "metadata": {
        "id": "oFWS9G0ddgEa"
      }
    },
    {
      "cell_type": "markdown",
      "source": [
        "# 2. Carregando dados de treino"
      ],
      "metadata": {
        "id": "gPPrqWDYihah"
      }
    },
    {
      "cell_type": "code",
      "source": [
        "# Instancia-se o dataframe com os dados de treino:\n",
        "\n",
        "train_data = pd.read_csv(\n",
        "    '/content/drive/MyDrive/Lighthouse/cars_train.csv',\n",
        "    sep= '\\t', encoding= 'utf-16'\n",
        ")\n",
        "\n",
        "# Visualização de parte do dataframe:\n",
        "\n",
        "train_data.head(2)"
      ],
      "metadata": {
        "colab": {
          "base_uri": "https://localhost:8080/",
          "height": 292
        },
        "id": "6KJTvwHiV5Nn",
        "outputId": "e42de670-6ac8-4b94-e39a-122bc231c92a"
      },
      "execution_count": 5,
      "outputs": [
        {
          "output_type": "execute_result",
          "data": {
            "text/plain": [
              "                                        id  num_fotos   marca   modelo  \\\n",
              "0  300716223898539419613863097469899222392        8.0  NISSAN    KICKS   \n",
              "1  279639842134129588306469566150288644214        8.0    JEEP  COMPASS   \n",
              "\n",
              "                            versao  ano_de_fabricacao  ano_modelo  hodometro  \\\n",
              "0  1.6 16V FLEXSTART SL 4P XTRONIC               2017      2017.0    67772.0   \n",
              "1  2.0 16V FLEX LIMITED AUTOMÁTICO               2017      2017.0    62979.0   \n",
              "\n",
              "       cambio  num_portas  ... elegivel_revisao dono_aceita_troca  \\\n",
              "0         CVT           4  ...            False               NaN   \n",
              "1  Automática           4  ...            False      Aceita troca   \n",
              "\n",
              "  veiculo_único_dono                       revisoes_concessionaria  ipva_pago  \\\n",
              "0                NaN  Todas as revisões feitas pela concessionária  IPVA pago   \n",
              "1                NaN                                           NaN  IPVA pago   \n",
              "\n",
              "  veiculo_licenciado garantia_de_fábrica  revisoes_dentro_agenda  \\\n",
              "0         Licenciado                 NaN                     NaN   \n",
              "1                NaN                 NaN                     NaN   \n",
              "\n",
              "   veiculo_alienado         preco  \n",
              "0               NaN  74732.590084  \n",
              "1               NaN  81965.332634  \n",
              "\n",
              "[2 rows x 29 columns]"
            ],
            "text/html": [
              "\n",
              "\n",
              "  <div id=\"df-0d5a35a1-e991-4104-90d6-10decc743144\">\n",
              "    <div class=\"colab-df-container\">\n",
              "      <div>\n",
              "<style scoped>\n",
              "    .dataframe tbody tr th:only-of-type {\n",
              "        vertical-align: middle;\n",
              "    }\n",
              "\n",
              "    .dataframe tbody tr th {\n",
              "        vertical-align: top;\n",
              "    }\n",
              "\n",
              "    .dataframe thead th {\n",
              "        text-align: right;\n",
              "    }\n",
              "</style>\n",
              "<table border=\"1\" class=\"dataframe\">\n",
              "  <thead>\n",
              "    <tr style=\"text-align: right;\">\n",
              "      <th></th>\n",
              "      <th>id</th>\n",
              "      <th>num_fotos</th>\n",
              "      <th>marca</th>\n",
              "      <th>modelo</th>\n",
              "      <th>versao</th>\n",
              "      <th>ano_de_fabricacao</th>\n",
              "      <th>ano_modelo</th>\n",
              "      <th>hodometro</th>\n",
              "      <th>cambio</th>\n",
              "      <th>num_portas</th>\n",
              "      <th>...</th>\n",
              "      <th>elegivel_revisao</th>\n",
              "      <th>dono_aceita_troca</th>\n",
              "      <th>veiculo_único_dono</th>\n",
              "      <th>revisoes_concessionaria</th>\n",
              "      <th>ipva_pago</th>\n",
              "      <th>veiculo_licenciado</th>\n",
              "      <th>garantia_de_fábrica</th>\n",
              "      <th>revisoes_dentro_agenda</th>\n",
              "      <th>veiculo_alienado</th>\n",
              "      <th>preco</th>\n",
              "    </tr>\n",
              "  </thead>\n",
              "  <tbody>\n",
              "    <tr>\n",
              "      <th>0</th>\n",
              "      <td>300716223898539419613863097469899222392</td>\n",
              "      <td>8.0</td>\n",
              "      <td>NISSAN</td>\n",
              "      <td>KICKS</td>\n",
              "      <td>1.6 16V FLEXSTART SL 4P XTRONIC</td>\n",
              "      <td>2017</td>\n",
              "      <td>2017.0</td>\n",
              "      <td>67772.0</td>\n",
              "      <td>CVT</td>\n",
              "      <td>4</td>\n",
              "      <td>...</td>\n",
              "      <td>False</td>\n",
              "      <td>NaN</td>\n",
              "      <td>NaN</td>\n",
              "      <td>Todas as revisões feitas pela concessionária</td>\n",
              "      <td>IPVA pago</td>\n",
              "      <td>Licenciado</td>\n",
              "      <td>NaN</td>\n",
              "      <td>NaN</td>\n",
              "      <td>NaN</td>\n",
              "      <td>74732.590084</td>\n",
              "    </tr>\n",
              "    <tr>\n",
              "      <th>1</th>\n",
              "      <td>279639842134129588306469566150288644214</td>\n",
              "      <td>8.0</td>\n",
              "      <td>JEEP</td>\n",
              "      <td>COMPASS</td>\n",
              "      <td>2.0 16V FLEX LIMITED AUTOMÁTICO</td>\n",
              "      <td>2017</td>\n",
              "      <td>2017.0</td>\n",
              "      <td>62979.0</td>\n",
              "      <td>Automática</td>\n",
              "      <td>4</td>\n",
              "      <td>...</td>\n",
              "      <td>False</td>\n",
              "      <td>Aceita troca</td>\n",
              "      <td>NaN</td>\n",
              "      <td>NaN</td>\n",
              "      <td>IPVA pago</td>\n",
              "      <td>NaN</td>\n",
              "      <td>NaN</td>\n",
              "      <td>NaN</td>\n",
              "      <td>NaN</td>\n",
              "      <td>81965.332634</td>\n",
              "    </tr>\n",
              "  </tbody>\n",
              "</table>\n",
              "<p>2 rows × 29 columns</p>\n",
              "</div>\n",
              "      <button class=\"colab-df-convert\" onclick=\"convertToInteractive('df-0d5a35a1-e991-4104-90d6-10decc743144')\"\n",
              "              title=\"Convert this dataframe to an interactive table.\"\n",
              "              style=\"display:none;\">\n",
              "\n",
              "  <svg xmlns=\"http://www.w3.org/2000/svg\" height=\"24px\"viewBox=\"0 0 24 24\"\n",
              "       width=\"24px\">\n",
              "    <path d=\"M0 0h24v24H0V0z\" fill=\"none\"/>\n",
              "    <path d=\"M18.56 5.44l.94 2.06.94-2.06 2.06-.94-2.06-.94-.94-2.06-.94 2.06-2.06.94zm-11 1L8.5 8.5l.94-2.06 2.06-.94-2.06-.94L8.5 2.5l-.94 2.06-2.06.94zm10 10l.94 2.06.94-2.06 2.06-.94-2.06-.94-.94-2.06-.94 2.06-2.06.94z\"/><path d=\"M17.41 7.96l-1.37-1.37c-.4-.4-.92-.59-1.43-.59-.52 0-1.04.2-1.43.59L10.3 9.45l-7.72 7.72c-.78.78-.78 2.05 0 2.83L4 21.41c.39.39.9.59 1.41.59.51 0 1.02-.2 1.41-.59l7.78-7.78 2.81-2.81c.8-.78.8-2.07 0-2.86zM5.41 20L4 18.59l7.72-7.72 1.47 1.35L5.41 20z\"/>\n",
              "  </svg>\n",
              "      </button>\n",
              "\n",
              "\n",
              "\n",
              "    <div id=\"df-e355c7a6-4f20-42c6-b969-e23687d8e64c\">\n",
              "      <button class=\"colab-df-quickchart\" onclick=\"quickchart('df-e355c7a6-4f20-42c6-b969-e23687d8e64c')\"\n",
              "              title=\"Suggest charts.\"\n",
              "              style=\"display:none;\">\n",
              "\n",
              "<svg xmlns=\"http://www.w3.org/2000/svg\" height=\"24px\"viewBox=\"0 0 24 24\"\n",
              "     width=\"24px\">\n",
              "    <g>\n",
              "        <path d=\"M19 3H5c-1.1 0-2 .9-2 2v14c0 1.1.9 2 2 2h14c1.1 0 2-.9 2-2V5c0-1.1-.9-2-2-2zM9 17H7v-7h2v7zm4 0h-2V7h2v10zm4 0h-2v-4h2v4z\"/>\n",
              "    </g>\n",
              "</svg>\n",
              "      </button>\n",
              "    </div>\n",
              "\n",
              "<style>\n",
              "  .colab-df-quickchart {\n",
              "    background-color: #E8F0FE;\n",
              "    border: none;\n",
              "    border-radius: 50%;\n",
              "    cursor: pointer;\n",
              "    display: none;\n",
              "    fill: #1967D2;\n",
              "    height: 32px;\n",
              "    padding: 0 0 0 0;\n",
              "    width: 32px;\n",
              "  }\n",
              "\n",
              "  .colab-df-quickchart:hover {\n",
              "    background-color: #E2EBFA;\n",
              "    box-shadow: 0px 1px 2px rgba(60, 64, 67, 0.3), 0px 1px 3px 1px rgba(60, 64, 67, 0.15);\n",
              "    fill: #174EA6;\n",
              "  }\n",
              "\n",
              "  [theme=dark] .colab-df-quickchart {\n",
              "    background-color: #3B4455;\n",
              "    fill: #D2E3FC;\n",
              "  }\n",
              "\n",
              "  [theme=dark] .colab-df-quickchart:hover {\n",
              "    background-color: #434B5C;\n",
              "    box-shadow: 0px 1px 3px 1px rgba(0, 0, 0, 0.15);\n",
              "    filter: drop-shadow(0px 1px 2px rgba(0, 0, 0, 0.3));\n",
              "    fill: #FFFFFF;\n",
              "  }\n",
              "</style>\n",
              "\n",
              "    <script>\n",
              "      async function quickchart(key) {\n",
              "        const containerElement = document.querySelector('#' + key);\n",
              "        const charts = await google.colab.kernel.invokeFunction(\n",
              "            'suggestCharts', [key], {});\n",
              "      }\n",
              "    </script>\n",
              "\n",
              "      <script>\n",
              "\n",
              "function displayQuickchartButton(domScope) {\n",
              "  let quickchartButtonEl =\n",
              "    domScope.querySelector('#df-e355c7a6-4f20-42c6-b969-e23687d8e64c button.colab-df-quickchart');\n",
              "  quickchartButtonEl.style.display =\n",
              "    google.colab.kernel.accessAllowed ? 'block' : 'none';\n",
              "}\n",
              "\n",
              "        displayQuickchartButton(document);\n",
              "      </script>\n",
              "      <style>\n",
              "    .colab-df-container {\n",
              "      display:flex;\n",
              "      flex-wrap:wrap;\n",
              "      gap: 12px;\n",
              "    }\n",
              "\n",
              "    .colab-df-convert {\n",
              "      background-color: #E8F0FE;\n",
              "      border: none;\n",
              "      border-radius: 50%;\n",
              "      cursor: pointer;\n",
              "      display: none;\n",
              "      fill: #1967D2;\n",
              "      height: 32px;\n",
              "      padding: 0 0 0 0;\n",
              "      width: 32px;\n",
              "    }\n",
              "\n",
              "    .colab-df-convert:hover {\n",
              "      background-color: #E2EBFA;\n",
              "      box-shadow: 0px 1px 2px rgba(60, 64, 67, 0.3), 0px 1px 3px 1px rgba(60, 64, 67, 0.15);\n",
              "      fill: #174EA6;\n",
              "    }\n",
              "\n",
              "    [theme=dark] .colab-df-convert {\n",
              "      background-color: #3B4455;\n",
              "      fill: #D2E3FC;\n",
              "    }\n",
              "\n",
              "    [theme=dark] .colab-df-convert:hover {\n",
              "      background-color: #434B5C;\n",
              "      box-shadow: 0px 1px 3px 1px rgba(0, 0, 0, 0.15);\n",
              "      filter: drop-shadow(0px 1px 2px rgba(0, 0, 0, 0.3));\n",
              "      fill: #FFFFFF;\n",
              "    }\n",
              "  </style>\n",
              "\n",
              "      <script>\n",
              "        const buttonEl =\n",
              "          document.querySelector('#df-0d5a35a1-e991-4104-90d6-10decc743144 button.colab-df-convert');\n",
              "        buttonEl.style.display =\n",
              "          google.colab.kernel.accessAllowed ? 'block' : 'none';\n",
              "\n",
              "        async function convertToInteractive(key) {\n",
              "          const element = document.querySelector('#df-0d5a35a1-e991-4104-90d6-10decc743144');\n",
              "          const dataTable =\n",
              "            await google.colab.kernel.invokeFunction('convertToInteractive',\n",
              "                                                     [key], {});\n",
              "          if (!dataTable) return;\n",
              "\n",
              "          const docLinkHtml = 'Like what you see? Visit the ' +\n",
              "            '<a target=\"_blank\" href=https://colab.research.google.com/notebooks/data_table.ipynb>data table notebook</a>'\n",
              "            + ' to learn more about interactive tables.';\n",
              "          element.innerHTML = '';\n",
              "          dataTable['output_type'] = 'display_data';\n",
              "          await google.colab.output.renderOutput(dataTable, element);\n",
              "          const docLink = document.createElement('div');\n",
              "          docLink.innerHTML = docLinkHtml;\n",
              "          element.appendChild(docLink);\n",
              "        }\n",
              "      </script>\n",
              "    </div>\n",
              "  </div>\n"
            ]
          },
          "metadata": {},
          "execution_count": 5
        }
      ]
    },
    {
      "cell_type": "markdown",
      "source": [
        "## 2. Dicionário do *dataset*"
      ],
      "metadata": {
        "id": "8TynLC61kQLO"
      }
    },
    {
      "cell_type": "markdown",
      "source": [
        "> * **id:** Contém o identificador único dos veículos cadastrados na base de dados\n",
        ">\n",
        "> * **num_fotos:** contém a quantidade de fotos que o anuncio do veículo contém\n",
        ">\n",
        "> * **marca:** Contém a marca do veículo anunciado\n",
        ">\n",
        "> * **modelo:** Contém o modelo do veículo anunciado\n",
        ">\n",
        "> * **versao:** Contém as descrições da versão do veículo anunciando. Sua cilindrada, quantidade de válvulas, se é flex ou não, etc.\n",
        ">\n",
        "> * **ano_de_fabricacao:** Contém o ano de fabricação do veículo anunciado\n",
        ">\n",
        "> * **ano_modelo:** Contém o modelo do ano de fabricação do veículo anunciado\n",
        ">\n",
        "> * **hodometro:** Contém o valor registrado no hodômetro do veículo anunciado\n",
        ">\n",
        "> * **cambio:** Contém o tipo de câmbio do veículo anunciado\n",
        ">\n",
        "> * **num_portas:** Contém a quantidade de portas do veículo anunciado\n",
        "tipo: Contém o tipo do veículo anunciado. Se ele é sedã, hatch, esportivo, etc.\n",
        ">\n",
        "> * **blindado:** Contém informação se o veículo anunciado é blindado ou não\n",
        ">\n",
        "> * **cor:** Contém a cor do veículo anunciado\n",
        ">\n",
        "> * **tipo_vendedor:** Contém informações sobre o tipo do vendedor do veículo anunciado. Se é pessoa física (PF) ou se é pessoa jurídica (PJ)\n",
        ">\n",
        "> * **cidade_vendedor:** Contém a cidade em que vendedor do veículo anunciado reside\n",
        ">\n",
        "> * **estado_vendedor:** Contém o estado em que vendedor do veículo anunciado reside\n",
        ">\n",
        "> * **anunciante:** Contém o tipo de anunciante do vendedor do veículo anunciado. Se ele é pessoa física, loja, concessionário, etc\n",
        "entrega_delivery: Contém informações se o vendedor faz ou não delivery do veículo anunciado\n",
        ">\n",
        "> * **troca:** Contém informações o veículo anunciado já foi trocado anteriormente\n",
        "elegivel_revisao: Contém informações se o veículo anunciado precisa ou não de revisão\n",
        ">\n",
        "> * **dono_aceita_troca:** Contém informações se o vendedor aceita ou não realizar uma troca com o veículo anunciado\n",
        ">\n",
        "> * **veiculo_único_dono:** Contém informações o veículo anunciado é de um único dono\n",
        ">\n",
        "> * **revisoes_concessionaria:** Contém informações se o veículo anunciado teve suas revisões feitas em concessionárias\n",
        ">\n",
        "> * **ipva_pago:** Contém informações se o veículo anunciado está com o IPVA pago ou não\n",
        ">\n",
        "> * **veiculo_licenciado:** Contém informações se o veículo anunciado está com o licenciamento pago ou não\n",
        ">\n",
        "> * **garantia_de_fábrica:** Contém informações o veículo anunciado possui garantia de fábrica ou não\n",
        ">\n",
        ">* **revisoes_dentro_agenda:** Contém informações se as revisões feitas do veículo anunciado foram realizadas dentro da agenda prevista\n",
        ">\n",
        "> * **veiculo_alienado:** Contém informações se o veículo anunciado está alienado ou não\n",
        ">\n",
        "> * **preco (target)**: Contém as informações do preço do veículo anunciado\n"
      ],
      "metadata": {
        "id": "6WX1EPLYkaGK"
      }
    },
    {
      "cell_type": "markdown",
      "source": [
        "## 3.1. Dimensões do *dataframe*"
      ],
      "metadata": {
        "id": "D_BspcakmFkh"
      }
    },
    {
      "cell_type": "code",
      "source": [
        "train_data.shape"
      ],
      "metadata": {
        "colab": {
          "base_uri": "https://localhost:8080/"
        },
        "id": "-SyhvvpdkOT5",
        "outputId": "729835ce-cf7f-44b0-90eb-487f871d1b13"
      },
      "execution_count": 6,
      "outputs": [
        {
          "output_type": "execute_result",
          "data": {
            "text/plain": [
              "(29584, 29)"
            ]
          },
          "metadata": {},
          "execution_count": 6
        }
      ]
    },
    {
      "cell_type": "markdown",
      "source": [
        "> 29584 linhas e 29 colunas."
      ],
      "metadata": {
        "id": "Q56EnbU4mMp_"
      }
    },
    {
      "cell_type": "markdown",
      "source": [
        "## 3.2. Infos do *dataframe*"
      ],
      "metadata": {
        "id": "yeg2EWjimQ9l"
      }
    },
    {
      "cell_type": "code",
      "source": [
        "train_data.info()"
      ],
      "metadata": {
        "colab": {
          "base_uri": "https://localhost:8080/"
        },
        "id": "pLnfLaIXmLYz",
        "outputId": "46f454de-fe34-4a98-bfcc-dd0b852fcdb7"
      },
      "execution_count": 7,
      "outputs": [
        {
          "output_type": "stream",
          "name": "stdout",
          "text": [
            "<class 'pandas.core.frame.DataFrame'>\n",
            "RangeIndex: 29584 entries, 0 to 29583\n",
            "Data columns (total 29 columns):\n",
            " #   Column                   Non-Null Count  Dtype  \n",
            "---  ------                   --------------  -----  \n",
            " 0   id                       29584 non-null  object \n",
            " 1   num_fotos                29407 non-null  float64\n",
            " 2   marca                    29584 non-null  object \n",
            " 3   modelo                   29584 non-null  object \n",
            " 4   versao                   29584 non-null  object \n",
            " 5   ano_de_fabricacao        29584 non-null  int64  \n",
            " 6   ano_modelo               29584 non-null  float64\n",
            " 7   hodometro                29584 non-null  float64\n",
            " 8   cambio                   29584 non-null  object \n",
            " 9   num_portas               29584 non-null  int64  \n",
            " 10  tipo                     29584 non-null  object \n",
            " 11  blindado                 29584 non-null  object \n",
            " 12  cor                      29584 non-null  object \n",
            " 13  tipo_vendedor            29584 non-null  object \n",
            " 14  cidade_vendedor          29584 non-null  object \n",
            " 15  estado_vendedor          29584 non-null  object \n",
            " 16  anunciante               29584 non-null  object \n",
            " 17  entrega_delivery         29584 non-null  bool   \n",
            " 18  troca                    29584 non-null  bool   \n",
            " 19  elegivel_revisao         29584 non-null  bool   \n",
            " 20  dono_aceita_troca        21922 non-null  object \n",
            " 21  veiculo_único_dono       10423 non-null  object \n",
            " 22  revisoes_concessionaria  9172 non-null   object \n",
            " 23  ipva_pago                19659 non-null  object \n",
            " 24  veiculo_licenciado       15906 non-null  object \n",
            " 25  garantia_de_fábrica      4365 non-null   object \n",
            " 26  revisoes_dentro_agenda   5910 non-null   object \n",
            " 27  veiculo_alienado         0 non-null      float64\n",
            " 28  preco                    29584 non-null  float64\n",
            "dtypes: bool(3), float64(5), int64(2), object(19)\n",
            "memory usage: 6.0+ MB\n"
          ]
        }
      ]
    },
    {
      "cell_type": "markdown",
      "source": [
        "## 3.3. Dados faltantes"
      ],
      "metadata": {
        "id": "0mnZQC9TmxV0"
      }
    },
    {
      "cell_type": "markdown",
      "source": [
        "A análise exploratória dos dados, realizada em outro *notebook*, já havia mostrado que algumas colunas do conjunto de dados possuem grande quantidade de dados faltantes. Para visualizar, novamente, essas colunas e a proporção de dados faltantes:"
      ],
      "metadata": {
        "id": "dnBDkEx9ioob"
      }
    },
    {
      "cell_type": "code",
      "source": [
        "valores_faltantes_por_coluna = train_data.isna().sum()\n",
        "numero_total_de_observacoes = train_data.shape[0]"
      ],
      "metadata": {
        "id": "aU444mZwnhzI"
      },
      "execution_count": 8,
      "outputs": []
    },
    {
      "cell_type": "code",
      "source": [
        "dados_faltantes = pd.DataFrame({\n",
        "    'Dados faltantes (absolutos)': train_data.isna().sum(),\n",
        "    'Dados faltantes (%)': round((valores_faltantes_por_coluna/numero_total_de_observacoes) * 100, 2)\n",
        "})\n",
        "\n",
        "dados_faltantes"
      ],
      "metadata": {
        "colab": {
          "base_uri": "https://localhost:8080/",
          "height": 959
        },
        "id": "YW8PogM0mfJQ",
        "outputId": "a2bfaff8-2dab-4f7f-dec0-93ebb8ec88a8"
      },
      "execution_count": 9,
      "outputs": [
        {
          "output_type": "execute_result",
          "data": {
            "text/plain": [
              "                         Dados faltantes (absolutos)  Dados faltantes (%)\n",
              "id                                                 0                 0.00\n",
              "num_fotos                                        177                 0.60\n",
              "marca                                              0                 0.00\n",
              "modelo                                             0                 0.00\n",
              "versao                                             0                 0.00\n",
              "ano_de_fabricacao                                  0                 0.00\n",
              "ano_modelo                                         0                 0.00\n",
              "hodometro                                          0                 0.00\n",
              "cambio                                             0                 0.00\n",
              "num_portas                                         0                 0.00\n",
              "tipo                                               0                 0.00\n",
              "blindado                                           0                 0.00\n",
              "cor                                                0                 0.00\n",
              "tipo_vendedor                                      0                 0.00\n",
              "cidade_vendedor                                    0                 0.00\n",
              "estado_vendedor                                    0                 0.00\n",
              "anunciante                                         0                 0.00\n",
              "entrega_delivery                                   0                 0.00\n",
              "troca                                              0                 0.00\n",
              "elegivel_revisao                                   0                 0.00\n",
              "dono_aceita_troca                               7662                25.90\n",
              "veiculo_único_dono                             19161                64.77\n",
              "revisoes_concessionaria                        20412                69.00\n",
              "ipva_pago                                       9925                33.55\n",
              "veiculo_licenciado                             13678                46.23\n",
              "garantia_de_fábrica                            25219                85.25\n",
              "revisoes_dentro_agenda                         23674                80.02\n",
              "veiculo_alienado                               29584               100.00\n",
              "preco                                              0                 0.00"
            ],
            "text/html": [
              "\n",
              "\n",
              "  <div id=\"df-7afff43c-7539-4fd7-8d3b-f2bd127eda47\">\n",
              "    <div class=\"colab-df-container\">\n",
              "      <div>\n",
              "<style scoped>\n",
              "    .dataframe tbody tr th:only-of-type {\n",
              "        vertical-align: middle;\n",
              "    }\n",
              "\n",
              "    .dataframe tbody tr th {\n",
              "        vertical-align: top;\n",
              "    }\n",
              "\n",
              "    .dataframe thead th {\n",
              "        text-align: right;\n",
              "    }\n",
              "</style>\n",
              "<table border=\"1\" class=\"dataframe\">\n",
              "  <thead>\n",
              "    <tr style=\"text-align: right;\">\n",
              "      <th></th>\n",
              "      <th>Dados faltantes (absolutos)</th>\n",
              "      <th>Dados faltantes (%)</th>\n",
              "    </tr>\n",
              "  </thead>\n",
              "  <tbody>\n",
              "    <tr>\n",
              "      <th>id</th>\n",
              "      <td>0</td>\n",
              "      <td>0.00</td>\n",
              "    </tr>\n",
              "    <tr>\n",
              "      <th>num_fotos</th>\n",
              "      <td>177</td>\n",
              "      <td>0.60</td>\n",
              "    </tr>\n",
              "    <tr>\n",
              "      <th>marca</th>\n",
              "      <td>0</td>\n",
              "      <td>0.00</td>\n",
              "    </tr>\n",
              "    <tr>\n",
              "      <th>modelo</th>\n",
              "      <td>0</td>\n",
              "      <td>0.00</td>\n",
              "    </tr>\n",
              "    <tr>\n",
              "      <th>versao</th>\n",
              "      <td>0</td>\n",
              "      <td>0.00</td>\n",
              "    </tr>\n",
              "    <tr>\n",
              "      <th>ano_de_fabricacao</th>\n",
              "      <td>0</td>\n",
              "      <td>0.00</td>\n",
              "    </tr>\n",
              "    <tr>\n",
              "      <th>ano_modelo</th>\n",
              "      <td>0</td>\n",
              "      <td>0.00</td>\n",
              "    </tr>\n",
              "    <tr>\n",
              "      <th>hodometro</th>\n",
              "      <td>0</td>\n",
              "      <td>0.00</td>\n",
              "    </tr>\n",
              "    <tr>\n",
              "      <th>cambio</th>\n",
              "      <td>0</td>\n",
              "      <td>0.00</td>\n",
              "    </tr>\n",
              "    <tr>\n",
              "      <th>num_portas</th>\n",
              "      <td>0</td>\n",
              "      <td>0.00</td>\n",
              "    </tr>\n",
              "    <tr>\n",
              "      <th>tipo</th>\n",
              "      <td>0</td>\n",
              "      <td>0.00</td>\n",
              "    </tr>\n",
              "    <tr>\n",
              "      <th>blindado</th>\n",
              "      <td>0</td>\n",
              "      <td>0.00</td>\n",
              "    </tr>\n",
              "    <tr>\n",
              "      <th>cor</th>\n",
              "      <td>0</td>\n",
              "      <td>0.00</td>\n",
              "    </tr>\n",
              "    <tr>\n",
              "      <th>tipo_vendedor</th>\n",
              "      <td>0</td>\n",
              "      <td>0.00</td>\n",
              "    </tr>\n",
              "    <tr>\n",
              "      <th>cidade_vendedor</th>\n",
              "      <td>0</td>\n",
              "      <td>0.00</td>\n",
              "    </tr>\n",
              "    <tr>\n",
              "      <th>estado_vendedor</th>\n",
              "      <td>0</td>\n",
              "      <td>0.00</td>\n",
              "    </tr>\n",
              "    <tr>\n",
              "      <th>anunciante</th>\n",
              "      <td>0</td>\n",
              "      <td>0.00</td>\n",
              "    </tr>\n",
              "    <tr>\n",
              "      <th>entrega_delivery</th>\n",
              "      <td>0</td>\n",
              "      <td>0.00</td>\n",
              "    </tr>\n",
              "    <tr>\n",
              "      <th>troca</th>\n",
              "      <td>0</td>\n",
              "      <td>0.00</td>\n",
              "    </tr>\n",
              "    <tr>\n",
              "      <th>elegivel_revisao</th>\n",
              "      <td>0</td>\n",
              "      <td>0.00</td>\n",
              "    </tr>\n",
              "    <tr>\n",
              "      <th>dono_aceita_troca</th>\n",
              "      <td>7662</td>\n",
              "      <td>25.90</td>\n",
              "    </tr>\n",
              "    <tr>\n",
              "      <th>veiculo_único_dono</th>\n",
              "      <td>19161</td>\n",
              "      <td>64.77</td>\n",
              "    </tr>\n",
              "    <tr>\n",
              "      <th>revisoes_concessionaria</th>\n",
              "      <td>20412</td>\n",
              "      <td>69.00</td>\n",
              "    </tr>\n",
              "    <tr>\n",
              "      <th>ipva_pago</th>\n",
              "      <td>9925</td>\n",
              "      <td>33.55</td>\n",
              "    </tr>\n",
              "    <tr>\n",
              "      <th>veiculo_licenciado</th>\n",
              "      <td>13678</td>\n",
              "      <td>46.23</td>\n",
              "    </tr>\n",
              "    <tr>\n",
              "      <th>garantia_de_fábrica</th>\n",
              "      <td>25219</td>\n",
              "      <td>85.25</td>\n",
              "    </tr>\n",
              "    <tr>\n",
              "      <th>revisoes_dentro_agenda</th>\n",
              "      <td>23674</td>\n",
              "      <td>80.02</td>\n",
              "    </tr>\n",
              "    <tr>\n",
              "      <th>veiculo_alienado</th>\n",
              "      <td>29584</td>\n",
              "      <td>100.00</td>\n",
              "    </tr>\n",
              "    <tr>\n",
              "      <th>preco</th>\n",
              "      <td>0</td>\n",
              "      <td>0.00</td>\n",
              "    </tr>\n",
              "  </tbody>\n",
              "</table>\n",
              "</div>\n",
              "      <button class=\"colab-df-convert\" onclick=\"convertToInteractive('df-7afff43c-7539-4fd7-8d3b-f2bd127eda47')\"\n",
              "              title=\"Convert this dataframe to an interactive table.\"\n",
              "              style=\"display:none;\">\n",
              "\n",
              "  <svg xmlns=\"http://www.w3.org/2000/svg\" height=\"24px\"viewBox=\"0 0 24 24\"\n",
              "       width=\"24px\">\n",
              "    <path d=\"M0 0h24v24H0V0z\" fill=\"none\"/>\n",
              "    <path d=\"M18.56 5.44l.94 2.06.94-2.06 2.06-.94-2.06-.94-.94-2.06-.94 2.06-2.06.94zm-11 1L8.5 8.5l.94-2.06 2.06-.94-2.06-.94L8.5 2.5l-.94 2.06-2.06.94zm10 10l.94 2.06.94-2.06 2.06-.94-2.06-.94-.94-2.06-.94 2.06-2.06.94z\"/><path d=\"M17.41 7.96l-1.37-1.37c-.4-.4-.92-.59-1.43-.59-.52 0-1.04.2-1.43.59L10.3 9.45l-7.72 7.72c-.78.78-.78 2.05 0 2.83L4 21.41c.39.39.9.59 1.41.59.51 0 1.02-.2 1.41-.59l7.78-7.78 2.81-2.81c.8-.78.8-2.07 0-2.86zM5.41 20L4 18.59l7.72-7.72 1.47 1.35L5.41 20z\"/>\n",
              "  </svg>\n",
              "      </button>\n",
              "\n",
              "\n",
              "\n",
              "    <div id=\"df-ad33a9f2-26f2-409d-a1ce-361501fa9356\">\n",
              "      <button class=\"colab-df-quickchart\" onclick=\"quickchart('df-ad33a9f2-26f2-409d-a1ce-361501fa9356')\"\n",
              "              title=\"Suggest charts.\"\n",
              "              style=\"display:none;\">\n",
              "\n",
              "<svg xmlns=\"http://www.w3.org/2000/svg\" height=\"24px\"viewBox=\"0 0 24 24\"\n",
              "     width=\"24px\">\n",
              "    <g>\n",
              "        <path d=\"M19 3H5c-1.1 0-2 .9-2 2v14c0 1.1.9 2 2 2h14c1.1 0 2-.9 2-2V5c0-1.1-.9-2-2-2zM9 17H7v-7h2v7zm4 0h-2V7h2v10zm4 0h-2v-4h2v4z\"/>\n",
              "    </g>\n",
              "</svg>\n",
              "      </button>\n",
              "    </div>\n",
              "\n",
              "<style>\n",
              "  .colab-df-quickchart {\n",
              "    background-color: #E8F0FE;\n",
              "    border: none;\n",
              "    border-radius: 50%;\n",
              "    cursor: pointer;\n",
              "    display: none;\n",
              "    fill: #1967D2;\n",
              "    height: 32px;\n",
              "    padding: 0 0 0 0;\n",
              "    width: 32px;\n",
              "  }\n",
              "\n",
              "  .colab-df-quickchart:hover {\n",
              "    background-color: #E2EBFA;\n",
              "    box-shadow: 0px 1px 2px rgba(60, 64, 67, 0.3), 0px 1px 3px 1px rgba(60, 64, 67, 0.15);\n",
              "    fill: #174EA6;\n",
              "  }\n",
              "\n",
              "  [theme=dark] .colab-df-quickchart {\n",
              "    background-color: #3B4455;\n",
              "    fill: #D2E3FC;\n",
              "  }\n",
              "\n",
              "  [theme=dark] .colab-df-quickchart:hover {\n",
              "    background-color: #434B5C;\n",
              "    box-shadow: 0px 1px 3px 1px rgba(0, 0, 0, 0.15);\n",
              "    filter: drop-shadow(0px 1px 2px rgba(0, 0, 0, 0.3));\n",
              "    fill: #FFFFFF;\n",
              "  }\n",
              "</style>\n",
              "\n",
              "    <script>\n",
              "      async function quickchart(key) {\n",
              "        const containerElement = document.querySelector('#' + key);\n",
              "        const charts = await google.colab.kernel.invokeFunction(\n",
              "            'suggestCharts', [key], {});\n",
              "      }\n",
              "    </script>\n",
              "\n",
              "      <script>\n",
              "\n",
              "function displayQuickchartButton(domScope) {\n",
              "  let quickchartButtonEl =\n",
              "    domScope.querySelector('#df-ad33a9f2-26f2-409d-a1ce-361501fa9356 button.colab-df-quickchart');\n",
              "  quickchartButtonEl.style.display =\n",
              "    google.colab.kernel.accessAllowed ? 'block' : 'none';\n",
              "}\n",
              "\n",
              "        displayQuickchartButton(document);\n",
              "      </script>\n",
              "      <style>\n",
              "    .colab-df-container {\n",
              "      display:flex;\n",
              "      flex-wrap:wrap;\n",
              "      gap: 12px;\n",
              "    }\n",
              "\n",
              "    .colab-df-convert {\n",
              "      background-color: #E8F0FE;\n",
              "      border: none;\n",
              "      border-radius: 50%;\n",
              "      cursor: pointer;\n",
              "      display: none;\n",
              "      fill: #1967D2;\n",
              "      height: 32px;\n",
              "      padding: 0 0 0 0;\n",
              "      width: 32px;\n",
              "    }\n",
              "\n",
              "    .colab-df-convert:hover {\n",
              "      background-color: #E2EBFA;\n",
              "      box-shadow: 0px 1px 2px rgba(60, 64, 67, 0.3), 0px 1px 3px 1px rgba(60, 64, 67, 0.15);\n",
              "      fill: #174EA6;\n",
              "    }\n",
              "\n",
              "    [theme=dark] .colab-df-convert {\n",
              "      background-color: #3B4455;\n",
              "      fill: #D2E3FC;\n",
              "    }\n",
              "\n",
              "    [theme=dark] .colab-df-convert:hover {\n",
              "      background-color: #434B5C;\n",
              "      box-shadow: 0px 1px 3px 1px rgba(0, 0, 0, 0.15);\n",
              "      filter: drop-shadow(0px 1px 2px rgba(0, 0, 0, 0.3));\n",
              "      fill: #FFFFFF;\n",
              "    }\n",
              "  </style>\n",
              "\n",
              "      <script>\n",
              "        const buttonEl =\n",
              "          document.querySelector('#df-7afff43c-7539-4fd7-8d3b-f2bd127eda47 button.colab-df-convert');\n",
              "        buttonEl.style.display =\n",
              "          google.colab.kernel.accessAllowed ? 'block' : 'none';\n",
              "\n",
              "        async function convertToInteractive(key) {\n",
              "          const element = document.querySelector('#df-7afff43c-7539-4fd7-8d3b-f2bd127eda47');\n",
              "          const dataTable =\n",
              "            await google.colab.kernel.invokeFunction('convertToInteractive',\n",
              "                                                     [key], {});\n",
              "          if (!dataTable) return;\n",
              "\n",
              "          const docLinkHtml = 'Like what you see? Visit the ' +\n",
              "            '<a target=\"_blank\" href=https://colab.research.google.com/notebooks/data_table.ipynb>data table notebook</a>'\n",
              "            + ' to learn more about interactive tables.';\n",
              "          element.innerHTML = '';\n",
              "          dataTable['output_type'] = 'display_data';\n",
              "          await google.colab.output.renderOutput(dataTable, element);\n",
              "          const docLink = document.createElement('div');\n",
              "          docLink.innerHTML = docLinkHtml;\n",
              "          element.appendChild(docLink);\n",
              "        }\n",
              "      </script>\n",
              "    </div>\n",
              "  </div>\n"
            ]
          },
          "metadata": {},
          "execution_count": 9
        }
      ]
    },
    {
      "cell_type": "markdown",
      "source": [
        "As colunas com mais de 20% de dados faltantes serão removidas. São elas: `dono_aceita_troca`, `veiculo_único_dono`, `revisoes_concessionaria`, `ipva_pago`, `veiculo_licenciado`, `garantia_de_fábrica`, `revisoes_dentro_agenda`, `veiculo_alienado`.\n",
        "\n",
        "> * Tal escolhe se deve ao fato de que imputar dados nessas colunas pode introduzir um viés aos dados.\n",
        ">\n",
        "> * Ademais, as colunas `ipva_pago` e `dono_aceita_troca` contém dados em que se espera valores afirmativos ou negativos (sim ou não, False ou True), porém só há o valor afirmativo, mas não o negativo. O que leva a suposição de que os valores faltantes, na verdade, deveriam ser uma afirmação negativa. Porém, como não sabe-se a fonte dos dados, admitir isso e imputar valores negativos nessas colunas, talvez fosse introduzir um viés."
      ],
      "metadata": {
        "id": "6Sh7om6bd_Wm"
      }
    },
    {
      "cell_type": "code",
      "source": [
        "# Colunas que serão eliminadas:\n",
        "\n",
        "colunas_para_drop = [\n",
        "    'dono_aceita_troca', 'veiculo_único_dono', 'revisoes_concessionaria',\n",
        "    'ipva_pago', 'veiculo_licenciado', 'garantia_de_fábrica', 'revisoes_dentro_agenda',\n",
        "    'veiculo_alienado'\n",
        "]"
      ],
      "metadata": {
        "id": "WoLQ5LIXet2B"
      },
      "execution_count": 10,
      "outputs": []
    },
    {
      "cell_type": "code",
      "source": [
        "# Dataframe com as colunas especificadas removidas:\n",
        "\n",
        "train_data = train_data.drop(colunas_para_drop, axis= 1)"
      ],
      "metadata": {
        "id": "jTNWkay0eqKd"
      },
      "execution_count": 11,
      "outputs": []
    },
    {
      "cell_type": "code",
      "source": [
        "train_data.head(1)"
      ],
      "metadata": {
        "colab": {
          "base_uri": "https://localhost:8080/",
          "height": 226
        },
        "id": "XIJYQs0dfVn-",
        "outputId": "b0df3078-46ab-4198-954a-6736398ad868"
      },
      "execution_count": 12,
      "outputs": [
        {
          "output_type": "execute_result",
          "data": {
            "text/plain": [
              "                                        id  num_fotos   marca modelo  \\\n",
              "0  300716223898539419613863097469899222392        8.0  NISSAN  KICKS   \n",
              "\n",
              "                            versao  ano_de_fabricacao  ano_modelo  hodometro  \\\n",
              "0  1.6 16V FLEXSTART SL 4P XTRONIC               2017      2017.0    67772.0   \n",
              "\n",
              "  cambio  num_portas  ... blindado     cor tipo_vendedor cidade_vendedor  \\\n",
              "0    CVT           4  ...        N  Branco            PF  Rio de Janeiro   \n",
              "\n",
              "  estado_vendedor     anunciante entrega_delivery  troca  elegivel_revisao  \\\n",
              "0  São Paulo (SP)  Pessoa Física            False  False             False   \n",
              "\n",
              "          preco  \n",
              "0  74732.590084  \n",
              "\n",
              "[1 rows x 21 columns]"
            ],
            "text/html": [
              "\n",
              "\n",
              "  <div id=\"df-09ca583d-1654-47e5-bce0-37ed7b6b517d\">\n",
              "    <div class=\"colab-df-container\">\n",
              "      <div>\n",
              "<style scoped>\n",
              "    .dataframe tbody tr th:only-of-type {\n",
              "        vertical-align: middle;\n",
              "    }\n",
              "\n",
              "    .dataframe tbody tr th {\n",
              "        vertical-align: top;\n",
              "    }\n",
              "\n",
              "    .dataframe thead th {\n",
              "        text-align: right;\n",
              "    }\n",
              "</style>\n",
              "<table border=\"1\" class=\"dataframe\">\n",
              "  <thead>\n",
              "    <tr style=\"text-align: right;\">\n",
              "      <th></th>\n",
              "      <th>id</th>\n",
              "      <th>num_fotos</th>\n",
              "      <th>marca</th>\n",
              "      <th>modelo</th>\n",
              "      <th>versao</th>\n",
              "      <th>ano_de_fabricacao</th>\n",
              "      <th>ano_modelo</th>\n",
              "      <th>hodometro</th>\n",
              "      <th>cambio</th>\n",
              "      <th>num_portas</th>\n",
              "      <th>...</th>\n",
              "      <th>blindado</th>\n",
              "      <th>cor</th>\n",
              "      <th>tipo_vendedor</th>\n",
              "      <th>cidade_vendedor</th>\n",
              "      <th>estado_vendedor</th>\n",
              "      <th>anunciante</th>\n",
              "      <th>entrega_delivery</th>\n",
              "      <th>troca</th>\n",
              "      <th>elegivel_revisao</th>\n",
              "      <th>preco</th>\n",
              "    </tr>\n",
              "  </thead>\n",
              "  <tbody>\n",
              "    <tr>\n",
              "      <th>0</th>\n",
              "      <td>300716223898539419613863097469899222392</td>\n",
              "      <td>8.0</td>\n",
              "      <td>NISSAN</td>\n",
              "      <td>KICKS</td>\n",
              "      <td>1.6 16V FLEXSTART SL 4P XTRONIC</td>\n",
              "      <td>2017</td>\n",
              "      <td>2017.0</td>\n",
              "      <td>67772.0</td>\n",
              "      <td>CVT</td>\n",
              "      <td>4</td>\n",
              "      <td>...</td>\n",
              "      <td>N</td>\n",
              "      <td>Branco</td>\n",
              "      <td>PF</td>\n",
              "      <td>Rio de Janeiro</td>\n",
              "      <td>São Paulo (SP)</td>\n",
              "      <td>Pessoa Física</td>\n",
              "      <td>False</td>\n",
              "      <td>False</td>\n",
              "      <td>False</td>\n",
              "      <td>74732.590084</td>\n",
              "    </tr>\n",
              "  </tbody>\n",
              "</table>\n",
              "<p>1 rows × 21 columns</p>\n",
              "</div>\n",
              "      <button class=\"colab-df-convert\" onclick=\"convertToInteractive('df-09ca583d-1654-47e5-bce0-37ed7b6b517d')\"\n",
              "              title=\"Convert this dataframe to an interactive table.\"\n",
              "              style=\"display:none;\">\n",
              "\n",
              "  <svg xmlns=\"http://www.w3.org/2000/svg\" height=\"24px\"viewBox=\"0 0 24 24\"\n",
              "       width=\"24px\">\n",
              "    <path d=\"M0 0h24v24H0V0z\" fill=\"none\"/>\n",
              "    <path d=\"M18.56 5.44l.94 2.06.94-2.06 2.06-.94-2.06-.94-.94-2.06-.94 2.06-2.06.94zm-11 1L8.5 8.5l.94-2.06 2.06-.94-2.06-.94L8.5 2.5l-.94 2.06-2.06.94zm10 10l.94 2.06.94-2.06 2.06-.94-2.06-.94-.94-2.06-.94 2.06-2.06.94z\"/><path d=\"M17.41 7.96l-1.37-1.37c-.4-.4-.92-.59-1.43-.59-.52 0-1.04.2-1.43.59L10.3 9.45l-7.72 7.72c-.78.78-.78 2.05 0 2.83L4 21.41c.39.39.9.59 1.41.59.51 0 1.02-.2 1.41-.59l7.78-7.78 2.81-2.81c.8-.78.8-2.07 0-2.86zM5.41 20L4 18.59l7.72-7.72 1.47 1.35L5.41 20z\"/>\n",
              "  </svg>\n",
              "      </button>\n",
              "\n",
              "\n",
              "\n",
              "    <div id=\"df-761dd8f2-d18a-4f8f-b129-16efcfab1381\">\n",
              "      <button class=\"colab-df-quickchart\" onclick=\"quickchart('df-761dd8f2-d18a-4f8f-b129-16efcfab1381')\"\n",
              "              title=\"Suggest charts.\"\n",
              "              style=\"display:none;\">\n",
              "\n",
              "<svg xmlns=\"http://www.w3.org/2000/svg\" height=\"24px\"viewBox=\"0 0 24 24\"\n",
              "     width=\"24px\">\n",
              "    <g>\n",
              "        <path d=\"M19 3H5c-1.1 0-2 .9-2 2v14c0 1.1.9 2 2 2h14c1.1 0 2-.9 2-2V5c0-1.1-.9-2-2-2zM9 17H7v-7h2v7zm4 0h-2V7h2v10zm4 0h-2v-4h2v4z\"/>\n",
              "    </g>\n",
              "</svg>\n",
              "      </button>\n",
              "    </div>\n",
              "\n",
              "<style>\n",
              "  .colab-df-quickchart {\n",
              "    background-color: #E8F0FE;\n",
              "    border: none;\n",
              "    border-radius: 50%;\n",
              "    cursor: pointer;\n",
              "    display: none;\n",
              "    fill: #1967D2;\n",
              "    height: 32px;\n",
              "    padding: 0 0 0 0;\n",
              "    width: 32px;\n",
              "  }\n",
              "\n",
              "  .colab-df-quickchart:hover {\n",
              "    background-color: #E2EBFA;\n",
              "    box-shadow: 0px 1px 2px rgba(60, 64, 67, 0.3), 0px 1px 3px 1px rgba(60, 64, 67, 0.15);\n",
              "    fill: #174EA6;\n",
              "  }\n",
              "\n",
              "  [theme=dark] .colab-df-quickchart {\n",
              "    background-color: #3B4455;\n",
              "    fill: #D2E3FC;\n",
              "  }\n",
              "\n",
              "  [theme=dark] .colab-df-quickchart:hover {\n",
              "    background-color: #434B5C;\n",
              "    box-shadow: 0px 1px 3px 1px rgba(0, 0, 0, 0.15);\n",
              "    filter: drop-shadow(0px 1px 2px rgba(0, 0, 0, 0.3));\n",
              "    fill: #FFFFFF;\n",
              "  }\n",
              "</style>\n",
              "\n",
              "    <script>\n",
              "      async function quickchart(key) {\n",
              "        const containerElement = document.querySelector('#' + key);\n",
              "        const charts = await google.colab.kernel.invokeFunction(\n",
              "            'suggestCharts', [key], {});\n",
              "      }\n",
              "    </script>\n",
              "\n",
              "      <script>\n",
              "\n",
              "function displayQuickchartButton(domScope) {\n",
              "  let quickchartButtonEl =\n",
              "    domScope.querySelector('#df-761dd8f2-d18a-4f8f-b129-16efcfab1381 button.colab-df-quickchart');\n",
              "  quickchartButtonEl.style.display =\n",
              "    google.colab.kernel.accessAllowed ? 'block' : 'none';\n",
              "}\n",
              "\n",
              "        displayQuickchartButton(document);\n",
              "      </script>\n",
              "      <style>\n",
              "    .colab-df-container {\n",
              "      display:flex;\n",
              "      flex-wrap:wrap;\n",
              "      gap: 12px;\n",
              "    }\n",
              "\n",
              "    .colab-df-convert {\n",
              "      background-color: #E8F0FE;\n",
              "      border: none;\n",
              "      border-radius: 50%;\n",
              "      cursor: pointer;\n",
              "      display: none;\n",
              "      fill: #1967D2;\n",
              "      height: 32px;\n",
              "      padding: 0 0 0 0;\n",
              "      width: 32px;\n",
              "    }\n",
              "\n",
              "    .colab-df-convert:hover {\n",
              "      background-color: #E2EBFA;\n",
              "      box-shadow: 0px 1px 2px rgba(60, 64, 67, 0.3), 0px 1px 3px 1px rgba(60, 64, 67, 0.15);\n",
              "      fill: #174EA6;\n",
              "    }\n",
              "\n",
              "    [theme=dark] .colab-df-convert {\n",
              "      background-color: #3B4455;\n",
              "      fill: #D2E3FC;\n",
              "    }\n",
              "\n",
              "    [theme=dark] .colab-df-convert:hover {\n",
              "      background-color: #434B5C;\n",
              "      box-shadow: 0px 1px 3px 1px rgba(0, 0, 0, 0.15);\n",
              "      filter: drop-shadow(0px 1px 2px rgba(0, 0, 0, 0.3));\n",
              "      fill: #FFFFFF;\n",
              "    }\n",
              "  </style>\n",
              "\n",
              "      <script>\n",
              "        const buttonEl =\n",
              "          document.querySelector('#df-09ca583d-1654-47e5-bce0-37ed7b6b517d button.colab-df-convert');\n",
              "        buttonEl.style.display =\n",
              "          google.colab.kernel.accessAllowed ? 'block' : 'none';\n",
              "\n",
              "        async function convertToInteractive(key) {\n",
              "          const element = document.querySelector('#df-09ca583d-1654-47e5-bce0-37ed7b6b517d');\n",
              "          const dataTable =\n",
              "            await google.colab.kernel.invokeFunction('convertToInteractive',\n",
              "                                                     [key], {});\n",
              "          if (!dataTable) return;\n",
              "\n",
              "          const docLinkHtml = 'Like what you see? Visit the ' +\n",
              "            '<a target=\"_blank\" href=https://colab.research.google.com/notebooks/data_table.ipynb>data table notebook</a>'\n",
              "            + ' to learn more about interactive tables.';\n",
              "          element.innerHTML = '';\n",
              "          dataTable['output_type'] = 'display_data';\n",
              "          await google.colab.output.renderOutput(dataTable, element);\n",
              "          const docLink = document.createElement('div');\n",
              "          docLink.innerHTML = docLinkHtml;\n",
              "          element.appendChild(docLink);\n",
              "        }\n",
              "      </script>\n",
              "    </div>\n",
              "  </div>\n"
            ]
          },
          "metadata": {},
          "execution_count": 12
        }
      ]
    },
    {
      "cell_type": "markdown",
      "source": [
        "## 3.4. Dados duplicados"
      ],
      "metadata": {
        "id": "A81L_pxBrXh9"
      }
    },
    {
      "cell_type": "code",
      "source": [
        "train_data.loc[train_data.duplicated()]"
      ],
      "metadata": {
        "colab": {
          "base_uri": "https://localhost:8080/",
          "height": 143
        },
        "id": "IlTmyaUVqc8O",
        "outputId": "ccf4f840-2b82-41ef-ba4b-b07a8a22a56c"
      },
      "execution_count": 13,
      "outputs": [
        {
          "output_type": "execute_result",
          "data": {
            "text/plain": [
              "Empty DataFrame\n",
              "Columns: [id, num_fotos, marca, modelo, versao, ano_de_fabricacao, ano_modelo, hodometro, cambio, num_portas, tipo, blindado, cor, tipo_vendedor, cidade_vendedor, estado_vendedor, anunciante, entrega_delivery, troca, elegivel_revisao, preco]\n",
              "Index: []\n",
              "\n",
              "[0 rows x 21 columns]"
            ],
            "text/html": [
              "\n",
              "\n",
              "  <div id=\"df-c50e17bf-14e2-4448-8f31-b785bd4e8fb6\">\n",
              "    <div class=\"colab-df-container\">\n",
              "      <div>\n",
              "<style scoped>\n",
              "    .dataframe tbody tr th:only-of-type {\n",
              "        vertical-align: middle;\n",
              "    }\n",
              "\n",
              "    .dataframe tbody tr th {\n",
              "        vertical-align: top;\n",
              "    }\n",
              "\n",
              "    .dataframe thead th {\n",
              "        text-align: right;\n",
              "    }\n",
              "</style>\n",
              "<table border=\"1\" class=\"dataframe\">\n",
              "  <thead>\n",
              "    <tr style=\"text-align: right;\">\n",
              "      <th></th>\n",
              "      <th>id</th>\n",
              "      <th>num_fotos</th>\n",
              "      <th>marca</th>\n",
              "      <th>modelo</th>\n",
              "      <th>versao</th>\n",
              "      <th>ano_de_fabricacao</th>\n",
              "      <th>ano_modelo</th>\n",
              "      <th>hodometro</th>\n",
              "      <th>cambio</th>\n",
              "      <th>num_portas</th>\n",
              "      <th>...</th>\n",
              "      <th>blindado</th>\n",
              "      <th>cor</th>\n",
              "      <th>tipo_vendedor</th>\n",
              "      <th>cidade_vendedor</th>\n",
              "      <th>estado_vendedor</th>\n",
              "      <th>anunciante</th>\n",
              "      <th>entrega_delivery</th>\n",
              "      <th>troca</th>\n",
              "      <th>elegivel_revisao</th>\n",
              "      <th>preco</th>\n",
              "    </tr>\n",
              "  </thead>\n",
              "  <tbody>\n",
              "  </tbody>\n",
              "</table>\n",
              "<p>0 rows × 21 columns</p>\n",
              "</div>\n",
              "      <button class=\"colab-df-convert\" onclick=\"convertToInteractive('df-c50e17bf-14e2-4448-8f31-b785bd4e8fb6')\"\n",
              "              title=\"Convert this dataframe to an interactive table.\"\n",
              "              style=\"display:none;\">\n",
              "\n",
              "  <svg xmlns=\"http://www.w3.org/2000/svg\" height=\"24px\"viewBox=\"0 0 24 24\"\n",
              "       width=\"24px\">\n",
              "    <path d=\"M0 0h24v24H0V0z\" fill=\"none\"/>\n",
              "    <path d=\"M18.56 5.44l.94 2.06.94-2.06 2.06-.94-2.06-.94-.94-2.06-.94 2.06-2.06.94zm-11 1L8.5 8.5l.94-2.06 2.06-.94-2.06-.94L8.5 2.5l-.94 2.06-2.06.94zm10 10l.94 2.06.94-2.06 2.06-.94-2.06-.94-.94-2.06-.94 2.06-2.06.94z\"/><path d=\"M17.41 7.96l-1.37-1.37c-.4-.4-.92-.59-1.43-.59-.52 0-1.04.2-1.43.59L10.3 9.45l-7.72 7.72c-.78.78-.78 2.05 0 2.83L4 21.41c.39.39.9.59 1.41.59.51 0 1.02-.2 1.41-.59l7.78-7.78 2.81-2.81c.8-.78.8-2.07 0-2.86zM5.41 20L4 18.59l7.72-7.72 1.47 1.35L5.41 20z\"/>\n",
              "  </svg>\n",
              "      </button>\n",
              "\n",
              "\n",
              "\n",
              "    <div id=\"df-562d8517-e944-4e32-8bd5-32e7c90f0742\">\n",
              "      <button class=\"colab-df-quickchart\" onclick=\"quickchart('df-562d8517-e944-4e32-8bd5-32e7c90f0742')\"\n",
              "              title=\"Suggest charts.\"\n",
              "              style=\"display:none;\">\n",
              "\n",
              "<svg xmlns=\"http://www.w3.org/2000/svg\" height=\"24px\"viewBox=\"0 0 24 24\"\n",
              "     width=\"24px\">\n",
              "    <g>\n",
              "        <path d=\"M19 3H5c-1.1 0-2 .9-2 2v14c0 1.1.9 2 2 2h14c1.1 0 2-.9 2-2V5c0-1.1-.9-2-2-2zM9 17H7v-7h2v7zm4 0h-2V7h2v10zm4 0h-2v-4h2v4z\"/>\n",
              "    </g>\n",
              "</svg>\n",
              "      </button>\n",
              "    </div>\n",
              "\n",
              "<style>\n",
              "  .colab-df-quickchart {\n",
              "    background-color: #E8F0FE;\n",
              "    border: none;\n",
              "    border-radius: 50%;\n",
              "    cursor: pointer;\n",
              "    display: none;\n",
              "    fill: #1967D2;\n",
              "    height: 32px;\n",
              "    padding: 0 0 0 0;\n",
              "    width: 32px;\n",
              "  }\n",
              "\n",
              "  .colab-df-quickchart:hover {\n",
              "    background-color: #E2EBFA;\n",
              "    box-shadow: 0px 1px 2px rgba(60, 64, 67, 0.3), 0px 1px 3px 1px rgba(60, 64, 67, 0.15);\n",
              "    fill: #174EA6;\n",
              "  }\n",
              "\n",
              "  [theme=dark] .colab-df-quickchart {\n",
              "    background-color: #3B4455;\n",
              "    fill: #D2E3FC;\n",
              "  }\n",
              "\n",
              "  [theme=dark] .colab-df-quickchart:hover {\n",
              "    background-color: #434B5C;\n",
              "    box-shadow: 0px 1px 3px 1px rgba(0, 0, 0, 0.15);\n",
              "    filter: drop-shadow(0px 1px 2px rgba(0, 0, 0, 0.3));\n",
              "    fill: #FFFFFF;\n",
              "  }\n",
              "</style>\n",
              "\n",
              "    <script>\n",
              "      async function quickchart(key) {\n",
              "        const containerElement = document.querySelector('#' + key);\n",
              "        const charts = await google.colab.kernel.invokeFunction(\n",
              "            'suggestCharts', [key], {});\n",
              "      }\n",
              "    </script>\n",
              "\n",
              "      <script>\n",
              "\n",
              "function displayQuickchartButton(domScope) {\n",
              "  let quickchartButtonEl =\n",
              "    domScope.querySelector('#df-562d8517-e944-4e32-8bd5-32e7c90f0742 button.colab-df-quickchart');\n",
              "  quickchartButtonEl.style.display =\n",
              "    google.colab.kernel.accessAllowed ? 'block' : 'none';\n",
              "}\n",
              "\n",
              "        displayQuickchartButton(document);\n",
              "      </script>\n",
              "      <style>\n",
              "    .colab-df-container {\n",
              "      display:flex;\n",
              "      flex-wrap:wrap;\n",
              "      gap: 12px;\n",
              "    }\n",
              "\n",
              "    .colab-df-convert {\n",
              "      background-color: #E8F0FE;\n",
              "      border: none;\n",
              "      border-radius: 50%;\n",
              "      cursor: pointer;\n",
              "      display: none;\n",
              "      fill: #1967D2;\n",
              "      height: 32px;\n",
              "      padding: 0 0 0 0;\n",
              "      width: 32px;\n",
              "    }\n",
              "\n",
              "    .colab-df-convert:hover {\n",
              "      background-color: #E2EBFA;\n",
              "      box-shadow: 0px 1px 2px rgba(60, 64, 67, 0.3), 0px 1px 3px 1px rgba(60, 64, 67, 0.15);\n",
              "      fill: #174EA6;\n",
              "    }\n",
              "\n",
              "    [theme=dark] .colab-df-convert {\n",
              "      background-color: #3B4455;\n",
              "      fill: #D2E3FC;\n",
              "    }\n",
              "\n",
              "    [theme=dark] .colab-df-convert:hover {\n",
              "      background-color: #434B5C;\n",
              "      box-shadow: 0px 1px 3px 1px rgba(0, 0, 0, 0.15);\n",
              "      filter: drop-shadow(0px 1px 2px rgba(0, 0, 0, 0.3));\n",
              "      fill: #FFFFFF;\n",
              "    }\n",
              "  </style>\n",
              "\n",
              "      <script>\n",
              "        const buttonEl =\n",
              "          document.querySelector('#df-c50e17bf-14e2-4448-8f31-b785bd4e8fb6 button.colab-df-convert');\n",
              "        buttonEl.style.display =\n",
              "          google.colab.kernel.accessAllowed ? 'block' : 'none';\n",
              "\n",
              "        async function convertToInteractive(key) {\n",
              "          const element = document.querySelector('#df-c50e17bf-14e2-4448-8f31-b785bd4e8fb6');\n",
              "          const dataTable =\n",
              "            await google.colab.kernel.invokeFunction('convertToInteractive',\n",
              "                                                     [key], {});\n",
              "          if (!dataTable) return;\n",
              "\n",
              "          const docLinkHtml = 'Like what you see? Visit the ' +\n",
              "            '<a target=\"_blank\" href=https://colab.research.google.com/notebooks/data_table.ipynb>data table notebook</a>'\n",
              "            + ' to learn more about interactive tables.';\n",
              "          element.innerHTML = '';\n",
              "          dataTable['output_type'] = 'display_data';\n",
              "          await google.colab.output.renderOutput(dataTable, element);\n",
              "          const docLink = document.createElement('div');\n",
              "          docLink.innerHTML = docLinkHtml;\n",
              "          element.appendChild(docLink);\n",
              "        }\n",
              "      </script>\n",
              "    </div>\n",
              "  </div>\n"
            ]
          },
          "metadata": {},
          "execution_count": 13
        }
      ]
    },
    {
      "cell_type": "markdown",
      "source": [
        "> Sem presença de dados duplicados."
      ],
      "metadata": {
        "id": "9oYMg3gbodlp"
      }
    },
    {
      "cell_type": "markdown",
      "source": [
        "# 4. Tratamento dos dados"
      ],
      "metadata": {
        "id": "t8jm2gP81ztc"
      }
    },
    {
      "cell_type": "markdown",
      "source": [
        "## 4.1. Remoção da coluna `elegivel_revisao`"
      ],
      "metadata": {
        "id": "ZnVvagxR4p5g"
      }
    },
    {
      "cell_type": "code",
      "source": [
        "train_data['elegivel_revisao'].unique()"
      ],
      "metadata": {
        "colab": {
          "base_uri": "https://localhost:8080/"
        },
        "id": "R0jEAK2zohvk",
        "outputId": "17c00894-c7f0-4407-db4e-051d6c57e8f4"
      },
      "execution_count": 14,
      "outputs": [
        {
          "output_type": "execute_result",
          "data": {
            "text/plain": [
              "array([False])"
            ]
          },
          "metadata": {},
          "execution_count": 14
        }
      ]
    },
    {
      "cell_type": "markdown",
      "source": [
        "> A coluna `elegivel_revisao` contém apenas um único valor (`False`). Portanto, por ser uma constante, é irrelevante para o modelo."
      ],
      "metadata": {
        "id": "Hq1N2Yi97Y6t"
      }
    },
    {
      "cell_type": "code",
      "source": [
        "# Dataframe com a coluna elegivel_revisao removida:\n",
        "\n",
        "train_data = train_data.drop('elegivel_revisao', axis= 1)"
      ],
      "metadata": {
        "id": "hTh5awtF4vLi"
      },
      "execution_count": 15,
      "outputs": []
    },
    {
      "cell_type": "markdown",
      "source": [
        "## 4.3. Transformação dos dados *booleanos*"
      ],
      "metadata": {
        "id": "-uvXbjXF16HO"
      }
    },
    {
      "cell_type": "markdown",
      "source": [
        "As colunas `entrega_delivery` e `troca` possuem dados do tipo `bool`. Os valores podem ser mapeados de forma que `False` corresponderá a 0 e `True` a 1."
      ],
      "metadata": {
        "id": "m4Djg2Jx70YM"
      }
    },
    {
      "cell_type": "code",
      "source": [
        "# Os valores são mapeados e substituidos:\n",
        "\n",
        "train_data['entrega_delivery'] = train_data['entrega_delivery'].map({False: 0, True: 1})\n",
        "train_data['troca'] = train_data['troca'].map({False: 0, True: 1})"
      ],
      "metadata": {
        "id": "Wm_vv_aq23Lm"
      },
      "execution_count": 16,
      "outputs": []
    },
    {
      "cell_type": "markdown",
      "source": [
        "## 4.2. Remoção de dados inconsistentes"
      ],
      "metadata": {
        "id": "HWAetpyd3LLI"
      }
    },
    {
      "cell_type": "markdown",
      "source": [
        "Na análise exploratória foi possível detectar algumas inconsistências nos dados:\n",
        "\n",
        "> * Veículos com **mais de um ano** de diferença entre ano do modelo e ano de fabricação do veículo. Normalmente na indústria automobilística um carro é produzido pelo menos alguns meses antes do ano de seu modelo. Existem carros **com mais de 20 anos de diferença** entre essas variáveis no conjunto de dados. Portanto, é bem provável que sejam valores equivocados, e esses dados serão removidos.\n",
        ">\n",
        "> * Há alguns veículos no conjunto de dados, bem poucos, que possuem 3 portas. O que é um valor bem exótico e bem raro em qualquer automóvel. Por isso também podem ser inconsistências que serão removidas."
      ],
      "metadata": {
        "id": "nYbBloTb8NE7"
      }
    },
    {
      "cell_type": "code",
      "source": [
        "# Coluna com diferença entre ano do modelo e ano de fabricação:\n",
        "\n",
        "train_data['diferenca_modelo_fabricacao'] = train_data['ano_modelo'] - train_data['ano_de_fabricacao']\n",
        "\n",
        "# Seleção dos dados em que a diferença é de 1 ano ou menos e com nº de portas diferente de 3:\n",
        "\n",
        "train_data = train_data.query('diferenca_modelo_fabricacao <= 1 and num_portas != 3')\n",
        "\n",
        "# Remoção da coluna diferenca_modelo_fabricacao:\n",
        "\n",
        "train_data = train_data.drop('diferenca_modelo_fabricacao', axis= 1)"
      ],
      "metadata": {
        "id": "LhmHXxAy3zX2"
      },
      "execution_count": 17,
      "outputs": []
    },
    {
      "cell_type": "code",
      "source": [
        "train_data.shape"
      ],
      "metadata": {
        "colab": {
          "base_uri": "https://localhost:8080/"
        },
        "id": "RFp6yT0j4BES",
        "outputId": "8cdc47b9-4724-4150-c955-5b5b4507c342"
      },
      "execution_count": 18,
      "outputs": [
        {
          "output_type": "execute_result",
          "data": {
            "text/plain": [
              "(26283, 20)"
            ]
          },
          "metadata": {},
          "execution_count": 18
        }
      ]
    },
    {
      "cell_type": "markdown",
      "source": [
        "> Dimensões do conjunto de dados após remoção das inconsistências."
      ],
      "metadata": {
        "id": "RWi9dzzoCzFj"
      }
    },
    {
      "cell_type": "markdown",
      "source": [
        "# 5. Análise de correlação"
      ],
      "metadata": {
        "id": "U8BykeDd4Huj"
      }
    },
    {
      "cell_type": "markdown",
      "source": [
        "Essa análise pode ser feita utilizando um **heatmap**, mapa de calor em português.\n",
        "\n",
        "A análise de correlação indica se as variáveis possuem correlação linear entre si. Além disso, correlações fortes entre variáveis explicativas podem ser um indicativo de **multicolinearidade.**"
      ],
      "metadata": {
        "id": "YlbCEHDBYr7m"
      }
    },
    {
      "cell_type": "code",
      "source": [
        "ax = sns.heatmap(data= train_data.corr(), annot= True, cmap= 'coolwarm')\n",
        "ax.set_title('Correlações entre as variáveis')\n",
        "plt.show()"
      ],
      "metadata": {
        "colab": {
          "base_uri": "https://localhost:8080/",
          "height": 569
        },
        "id": "jk3FDxN-W-87",
        "outputId": "e5986b75-24be-48b5-b77a-32b44f70171c"
      },
      "execution_count": 19,
      "outputs": [
        {
          "output_type": "display_data",
          "data": {
            "text/plain": [
              "<Figure size 640x480 with 2 Axes>"
            ],
            "image/png": "[encoded data removed]"
          },
          "metadata": {}
        }
      ]
    },
    {
      "cell_type": "markdown",
      "source": [
        "> Analisando o **mapa de calor** uma correlação quase perfeita entre `ano_modelo` e `ano_de_fabricacao`. Uma correlação moderada entre essas variáveis e `hodometro`, mas também uma correlação forte entre `entrega_delivery` e `troca`."
      ],
      "metadata": {
        "id": "2X8JZooOxMYi"
      }
    },
    {
      "cell_type": "markdown",
      "source": [
        "No geral, **multicolinearidade** não interfere na previsão dos dados, mas atrapalha caso se deseje realizar alguma inferência estatística, como interpretar os coeficientes do modelo de **regressão linear.** Caso se deseje determinar a **multicolinearidade** é possível usar o $VIF$. Normalmente se considera que há **multicolinearidade** quando $VIF > 5$."
      ],
      "metadata": {
        "id": "SIGu2n44xxaD"
      }
    },
    {
      "cell_type": "code",
      "source": [
        "vif = pd.DataFrame()\n",
        "alta_correlacao = train_data[['hodometro', 'ano_modelo', 'ano_de_fabricacao', 'entrega_delivery', 'troca']]\n",
        "vif['features'] = alta_correlacao.columns\n",
        "vif['VIF'] = vif[\"VIF\"] = [variance_inflation_factor(alta_correlacao.values, i) for i in range(len(alta_correlacao.columns))]\n",
        "vif"
      ],
      "metadata": {
        "colab": {
          "base_uri": "https://localhost:8080/",
          "height": 206
        },
        "id": "LkCkbqNQrDSQ",
        "outputId": "8003364c-4761-4fcc-e79f-909270cb4f90"
      },
      "execution_count": 20,
      "outputs": [
        {
          "output_type": "execute_result",
          "data": {
            "text/plain": [
              "            features           VIF\n",
              "0          hodometro  4.390898e+00\n",
              "1         ano_modelo  1.644920e+07\n",
              "2  ano_de_fabricacao  1.644953e+07\n",
              "3   entrega_delivery  5.832822e+00\n",
              "4              troca  5.590944e+00"
            ],
            "text/html": [
              "\n",
              "\n",
              "  <div id=\"df-eeeedbbc-631a-48f2-bae4-6de79188bfbd\">\n",
              "    <div class=\"colab-df-container\">\n",
              "      <div>\n",
              "<style scoped>\n",
              "    .dataframe tbody tr th:only-of-type {\n",
              "        vertical-align: middle;\n",
              "    }\n",
              "\n",
              "    .dataframe tbody tr th {\n",
              "        vertical-align: top;\n",
              "    }\n",
              "\n",
              "    .dataframe thead th {\n",
              "        text-align: right;\n",
              "    }\n",
              "</style>\n",
              "<table border=\"1\" class=\"dataframe\">\n",
              "  <thead>\n",
              "    <tr style=\"text-align: right;\">\n",
              "      <th></th>\n",
              "      <th>features</th>\n",
              "      <th>VIF</th>\n",
              "    </tr>\n",
              "  </thead>\n",
              "  <tbody>\n",
              "    <tr>\n",
              "      <th>0</th>\n",
              "      <td>hodometro</td>\n",
              "      <td>4.390898e+00</td>\n",
              "    </tr>\n",
              "    <tr>\n",
              "      <th>1</th>\n",
              "      <td>ano_modelo</td>\n",
              "      <td>1.644920e+07</td>\n",
              "    </tr>\n",
              "    <tr>\n",
              "      <th>2</th>\n",
              "      <td>ano_de_fabricacao</td>\n",
              "      <td>1.644953e+07</td>\n",
              "    </tr>\n",
              "    <tr>\n",
              "      <th>3</th>\n",
              "      <td>entrega_delivery</td>\n",
              "      <td>5.832822e+00</td>\n",
              "    </tr>\n",
              "    <tr>\n",
              "      <th>4</th>\n",
              "      <td>troca</td>\n",
              "      <td>5.590944e+00</td>\n",
              "    </tr>\n",
              "  </tbody>\n",
              "</table>\n",
              "</div>\n",
              "      <button class=\"colab-df-convert\" onclick=\"convertToInteractive('df-eeeedbbc-631a-48f2-bae4-6de79188bfbd')\"\n",
              "              title=\"Convert this dataframe to an interactive table.\"\n",
              "              style=\"display:none;\">\n",
              "\n",
              "  <svg xmlns=\"http://www.w3.org/2000/svg\" height=\"24px\"viewBox=\"0 0 24 24\"\n",
              "       width=\"24px\">\n",
              "    <path d=\"M0 0h24v24H0V0z\" fill=\"none\"/>\n",
              "    <path d=\"M18.56 5.44l.94 2.06.94-2.06 2.06-.94-2.06-.94-.94-2.06-.94 2.06-2.06.94zm-11 1L8.5 8.5l.94-2.06 2.06-.94-2.06-.94L8.5 2.5l-.94 2.06-2.06.94zm10 10l.94 2.06.94-2.06 2.06-.94-2.06-.94-.94-2.06-.94 2.06-2.06.94z\"/><path d=\"M17.41 7.96l-1.37-1.37c-.4-.4-.92-.59-1.43-.59-.52 0-1.04.2-1.43.59L10.3 9.45l-7.72 7.72c-.78.78-.78 2.05 0 2.83L4 21.41c.39.39.9.59 1.41.59.51 0 1.02-.2 1.41-.59l7.78-7.78 2.81-2.81c.8-.78.8-2.07 0-2.86zM5.41 20L4 18.59l7.72-7.72 1.47 1.35L5.41 20z\"/>\n",
              "  </svg>\n",
              "      </button>\n",
              "\n",
              "\n",
              "\n",
              "    <div id=\"df-2749c063-a89e-4878-a30e-bc7fe1e950f0\">\n",
              "      <button class=\"colab-df-quickchart\" onclick=\"quickchart('df-2749c063-a89e-4878-a30e-bc7fe1e950f0')\"\n",
              "              title=\"Suggest charts.\"\n",
              "              style=\"display:none;\">\n",
              "\n",
              "<svg xmlns=\"http://www.w3.org/2000/svg\" height=\"24px\"viewBox=\"0 0 24 24\"\n",
              "     width=\"24px\">\n",
              "    <g>\n",
              "        <path d=\"M19 3H5c-1.1 0-2 .9-2 2v14c0 1.1.9 2 2 2h14c1.1 0 2-.9 2-2V5c0-1.1-.9-2-2-2zM9 17H7v-7h2v7zm4 0h-2V7h2v10zm4 0h-2v-4h2v4z\"/>\n",
              "    </g>\n",
              "</svg>\n",
              "      </button>\n",
              "    </div>\n",
              "\n",
              "<style>\n",
              "  .colab-df-quickchart {\n",
              "    background-color: #E8F0FE;\n",
              "    border: none;\n",
              "    border-radius: 50%;\n",
              "    cursor: pointer;\n",
              "    display: none;\n",
              "    fill: #1967D2;\n",
              "    height: 32px;\n",
              "    padding: 0 0 0 0;\n",
              "    width: 32px;\n",
              "  }\n",
              "\n",
              "  .colab-df-quickchart:hover {\n",
              "    background-color: #E2EBFA;\n",
              "    box-shadow: 0px 1px 2px rgba(60, 64, 67, 0.3), 0px 1px 3px 1px rgba(60, 64, 67, 0.15);\n",
              "    fill: #174EA6;\n",
              "  }\n",
              "\n",
              "  [theme=dark] .colab-df-quickchart {\n",
              "    background-color: #3B4455;\n",
              "    fill: #D2E3FC;\n",
              "  }\n",
              "\n",
              "  [theme=dark] .colab-df-quickchart:hover {\n",
              "    background-color: #434B5C;\n",
              "    box-shadow: 0px 1px 3px 1px rgba(0, 0, 0, 0.15);\n",
              "    filter: drop-shadow(0px 1px 2px rgba(0, 0, 0, 0.3));\n",
              "    fill: #FFFFFF;\n",
              "  }\n",
              "</style>\n",
              "\n",
              "    <script>\n",
              "      async function quickchart(key) {\n",
              "        const containerElement = document.querySelector('#' + key);\n",
              "        const charts = await google.colab.kernel.invokeFunction(\n",
              "            'suggestCharts', [key], {});\n",
              "      }\n",
              "    </script>\n",
              "\n",
              "      <script>\n",
              "\n",
              "function displayQuickchartButton(domScope) {\n",
              "  let quickchartButtonEl =\n",
              "    domScope.querySelector('#df-2749c063-a89e-4878-a30e-bc7fe1e950f0 button.colab-df-quickchart');\n",
              "  quickchartButtonEl.style.display =\n",
              "    google.colab.kernel.accessAllowed ? 'block' : 'none';\n",
              "}\n",
              "\n",
              "        displayQuickchartButton(document);\n",
              "      </script>\n",
              "      <style>\n",
              "    .colab-df-container {\n",
              "      display:flex;\n",
              "      flex-wrap:wrap;\n",
              "      gap: 12px;\n",
              "    }\n",
              "\n",
              "    .colab-df-convert {\n",
              "      background-color: #E8F0FE;\n",
              "      border: none;\n",
              "      border-radius: 50%;\n",
              "      cursor: pointer;\n",
              "      display: none;\n",
              "      fill: #1967D2;\n",
              "      height: 32px;\n",
              "      padding: 0 0 0 0;\n",
              "      width: 32px;\n",
              "    }\n",
              "\n",
              "    .colab-df-convert:hover {\n",
              "      background-color: #E2EBFA;\n",
              "      box-shadow: 0px 1px 2px rgba(60, 64, 67, 0.3), 0px 1px 3px 1px rgba(60, 64, 67, 0.15);\n",
              "      fill: #174EA6;\n",
              "    }\n",
              "\n",
              "    [theme=dark] .colab-df-convert {\n",
              "      background-color: #3B4455;\n",
              "      fill: #D2E3FC;\n",
              "    }\n",
              "\n",
              "    [theme=dark] .colab-df-convert:hover {\n",
              "      background-color: #434B5C;\n",
              "      box-shadow: 0px 1px 3px 1px rgba(0, 0, 0, 0.15);\n",
              "      filter: drop-shadow(0px 1px 2px rgba(0, 0, 0, 0.3));\n",
              "      fill: #FFFFFF;\n",
              "    }\n",
              "  </style>\n",
              "\n",
              "      <script>\n",
              "        const buttonEl =\n",
              "          document.querySelector('#df-eeeedbbc-631a-48f2-bae4-6de79188bfbd button.colab-df-convert');\n",
              "        buttonEl.style.display =\n",
              "          google.colab.kernel.accessAllowed ? 'block' : 'none';\n",
              "\n",
              "        async function convertToInteractive(key) {\n",
              "          const element = document.querySelector('#df-eeeedbbc-631a-48f2-bae4-6de79188bfbd');\n",
              "          const dataTable =\n",
              "            await google.colab.kernel.invokeFunction('convertToInteractive',\n",
              "                                                     [key], {});\n",
              "          if (!dataTable) return;\n",
              "\n",
              "          const docLinkHtml = 'Like what you see? Visit the ' +\n",
              "            '<a target=\"_blank\" href=https://colab.research.google.com/notebooks/data_table.ipynb>data table notebook</a>'\n",
              "            + ' to learn more about interactive tables.';\n",
              "          element.innerHTML = '';\n",
              "          dataTable['output_type'] = 'display_data';\n",
              "          await google.colab.output.renderOutput(dataTable, element);\n",
              "          const docLink = document.createElement('div');\n",
              "          docLink.innerHTML = docLinkHtml;\n",
              "          element.appendChild(docLink);\n",
              "        }\n",
              "      </script>\n",
              "    </div>\n",
              "  </div>\n"
            ]
          },
          "metadata": {},
          "execution_count": 20
        }
      ]
    },
    {
      "cell_type": "markdown",
      "source": [
        "> Há **multicolinearidade** entre as variáveis `ano_modelo` e `ano_de_fabricacao`, além das variáveis `troca` e `entrega_delivery`."
      ],
      "metadata": {
        "id": "1apc98C4y_kV"
      }
    },
    {
      "cell_type": "code",
      "source": [
        "# As colunas ano_de_fabricacao e entrega_delivery são retiradas do dataframe:\n",
        "\n",
        "train_data = train_data.drop(['ano_de_fabricacao', 'entrega_delivery'], axis= 1)"
      ],
      "metadata": {
        "id": "6QHjw3JiydsC"
      },
      "execution_count": 21,
      "outputs": []
    },
    {
      "cell_type": "markdown",
      "source": [
        "# 6. Modelagem para o problema de regressão"
      ],
      "metadata": {
        "id": "67o91IOFoZR0"
      }
    },
    {
      "cell_type": "markdown",
      "source": [
        "## 6.1. Variáveis independentes e dependente (alvo)"
      ],
      "metadata": {
        "id": "cqvpT5sQoj_n"
      }
    },
    {
      "cell_type": "markdown",
      "source": [
        "Opta-se pela remoção da variável `num_fotos` das *features* dado que a quantidade de fotos é mais uma questão de divulgação do anúncio do que de definição do preço do automóvel. Além disso, removendo essa coluna reduzimos o *pipeline*, visto que ela tem uma quantidade pequena de dados faltantes, mas que deveriam ser tratados."
      ],
      "metadata": {
        "id": "WYPyXGOsHihV"
      }
    },
    {
      "cell_type": "code",
      "source": [
        "# Variáveis independentes:\n",
        "\n",
        "X_train = train_data.drop(['preco', 'id', 'num_fotos'], axis= 1) # id também é removida, visto que são valores que identificam os veículos.\n",
        "\n",
        "# Variável dependente:\n",
        "\n",
        "y_train = train_data['preco']"
      ],
      "metadata": {
        "id": "opr51hqAlGBV"
      },
      "execution_count": 22,
      "outputs": []
    },
    {
      "cell_type": "code",
      "source": [
        "# Instancia-se o KFold:\n",
        "\n",
        "kfold = KFold(n_splits= 5, shuffle= True, random_state= RANDOM_SEED)"
      ],
      "metadata": {
        "id": "17HySiv1UPiI"
      },
      "execution_count": 23,
      "outputs": []
    },
    {
      "cell_type": "markdown",
      "source": [
        "> O *KFold* será usado posteriormente na validação cruzada."
      ],
      "metadata": {
        "id": "g1y1K7cjOMcS"
      }
    },
    {
      "cell_type": "markdown",
      "source": [
        "## 6.2. Montagem do *pipeline*"
      ],
      "metadata": {
        "id": "WW3Hwg72N9Sy"
      }
    },
    {
      "cell_type": "code",
      "source": [
        "# Colunas com dados categóricos:\n",
        "\n",
        "colunas_categoricas = X_train.select_dtypes('object').columns\n",
        "\n",
        "# Colunas com dados numéricos:\n",
        "\n",
        "colunas_numericas = X_train.select_dtypes('number').columns"
      ],
      "metadata": {
        "id": "xmDGxOnirgBW"
      },
      "execution_count": 24,
      "outputs": []
    },
    {
      "cell_type": "markdown",
      "source": [
        "O pré-processamento dos dados se dará com o *encoding* das variáveis categóricas e a normalização dos dados.\n",
        "\n",
        "> * `CatBoostEncoder`: variáveis categóricas em formato de texto não costumam ser interpretadas por diversos modelos. Portanto, é necessário que essa informação seja transformada para algum tipo de valor numérico. O `CatBoostEncoder` determina, com diferentes estatísticas, uma relação com a variável alvo. **O uso desse *encoder* se deve ao fato de evitar o aumento na cardinalidade dos dados, o que ocorreria com o `OneHotEncoder`, visto que existem muitas classes no conjunto de dados.**\n",
        ">\n",
        "> * `MinMaxScaler`: dados numéricos podem estar presentes em diferentes unidades e diferentes escalas. O problema é que **escalas maiores tendem a fazer com que o modelo dê maior peso a tais variáveis.** Portanto, o uso de algum tipo de *scaler* busca evitar essa distorção. Outra opção é padronizar os dados com `StandardScaler`, no entanto, **os dados do conjunto de dados não seguem uma distribuição normal, sendo mais indicado a sua normalização.** Ela é feita da seguinte forma:\n",
        "\n",
        "![image.png](data:image/png;base64,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)"
      ],
      "metadata": {
        "id": "mek2BOsLO2gz"
      }
    },
    {
      "cell_type": "code",
      "source": [
        "# Pré-processamento dos dados, o objeto preprocessing fará parte do pipeline:\n",
        "\n",
        "preprocessing = ColumnTransformer(\n",
        "    transformers= [\n",
        "        ('categorical', CatBoostEncoder(), colunas_categoricas),\n",
        "        ('numerical', MinMaxScaler(), colunas_numericas)\n",
        "    ],\n",
        ")"
      ],
      "metadata": {
        "id": "ODxhX474iW_G"
      },
      "execution_count": 25,
      "outputs": []
    },
    {
      "cell_type": "code",
      "source": [
        "# Modelos que serão testados com validação cruzada:\n",
        "\n",
        "models = {\n",
        "    'LinearRegression': LinearRegression(),\n",
        "    'Lasso': Lasso(),\n",
        "    'Ridge': Ridge(),\n",
        "    'ElasticNet': ElasticNet(),\n",
        "    'DecisionTreeRegressor': DecisionTreeRegressor(),\n",
        "    'RandomForestRegressor': RandomForestRegressor(),\n",
        "    'GradientBoostingRegressor': GradientBoostingRegressor(),\n",
        "    'CatBoostRegressor': CatBoostRegressor(verbose= False),\n",
        "    'XGBRegressor': XGBRegressor(),\n",
        "    'LGBMRegressor': LGBMRegressor()\n",
        "\n",
        "}"
      ],
      "metadata": {
        "id": "ndHzgrXyXaKM"
      },
      "execution_count": 26,
      "outputs": []
    },
    {
      "cell_type": "markdown",
      "source": [
        "O interesse é usar diferentes modelos, a partir de uma métrica determinada, para testar aquele que desempenha melhor com os dados fornecidos. Entre os modelos instanciados há aqueles:\n",
        "\n",
        "> * **Regressão linear:** como os modelos de `LinearRegression`, `Lasso`, `Ridge` e `ElasticNet`. Nesses modelos uma reta que passa pelos pontos é ajustada de forma que o erro seja o menor possível. Os modelos `Lasso`, `Ridge` e `ElasticNet`apresentam algum tipo de regularização de forma a penalizar coeficientes muito grandes, muito pequenos ou ambos.\n",
        ">\n",
        "> * **Árvore de decisão:** é o caso do modelo `DecisionTreeRegressor`. Nesses modelos o conjunto de dados é dividido em partes menores, para cada etapa o melhor atributo para dividir os dados é selecionado. Ao percorrer a árvore para uma nova amostra, chega a uma folha e prevê o valor médio dos alvos das amostras associadas a essa folha.\n",
        ">\n",
        "> * **Esemble:** algoritmos do tipo **esemble** são aqueles que combinam múltiplos modelos, podendo ser do mesmo tipo ou de tipos diferentes, os modelos `RandomForest, `GradientBoostingRegressor`, `CatBoosRegressor`, `XGBRegressor` e ``LGBMRegressor` estão nessa categoria. Os algoritmos desse tipo, no geral, são mais poderosos do que modelos simples. Porém, é importante testar diferentes modelos, pois essa afirmação nem sempre é verdadeira."
      ],
      "metadata": {
        "id": "plLnQ4eORnuw"
      }
    },
    {
      "cell_type": "markdown",
      "source": [
        "A métrica escolhida para o **raiz do erro quadrático médio negativo (RMSE negativo)**. Tanto essa métrica quanto o **erro absoluto médio negativo (MAE negativo)**, retornam uma métrica na unidade da variável resposta, ou seja, em reais. No entanto, o **RMSE** penaliza eventuais erros mais significativos. O **RMSE** é calculado da seguinte forma:\n",
        "\n",
        "![image.png](data:image/png;base64,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)\n",
        "\n"
      ],
      "metadata": {
        "id": "veLWwQ1YQgBp"
      }
    },
    {
      "cell_type": "markdown",
      "source": [
        "> O **raiz do erro quadrático médio negativo** é obtido pela multiplicação do **RMSE** por **-1.** Vale ressaltar que quanto mais próximo de **zero**, melhor."
      ],
      "metadata": {
        "id": "G5qo_FIKSlzJ"
      }
    },
    {
      "cell_type": "code",
      "source": [
        "for model_name, model_config in models.items():\n",
        "  pipeline = Pipeline([\n",
        "    ('preprocessing', preprocessing),\n",
        "    ('model', model_config)\n",
        "])\n",
        "\n",
        "  result = cross_val_score(pipeline, X_train, y_train, cv= kfold, scoring= 'neg_root_mean_squared_error')\n",
        "  print(f'{model_name} score: {result.mean()}')"
      ],
      "metadata": {
        "colab": {
          "base_uri": "https://localhost:8080/"
        },
        "id": "nmD8eksdYkDJ",
        "outputId": "5d2d6a5f-32a2-40e2-f63d-9aeee32ae5b1"
      },
      "execution_count": 27,
      "outputs": [
        {
          "output_type": "stream",
          "name": "stdout",
          "text": [
            "LinearRegression score: -45568.13256342504\n",
            "Lasso score: -45567.796920509674\n",
            "Ridge score: -45566.9905968006\n",
            "ElasticNet score: -47181.6872797647\n",
            "DecisionTreeRegressor score: -63330.32850868414\n",
            "RandomForestRegressor score: -42996.76734436992\n",
            "GradientBoostingRegressor score: -43269.41305825578\n",
            "CatBoostRegressor score: -42055.37622462952\n",
            "XGBRegressor score: -43666.26442068225\n",
            "LGBMRegressor score: -42313.184209135274\n"
          ]
        }
      ]
    },
    {
      "cell_type": "markdown",
      "source": [
        "> Com base nessa métrica, o algoritmo `CatBoostRegressor` é o que melhor performa com o conjunto de dados."
      ],
      "metadata": {
        "id": "n_gTC7M-UKx4"
      }
    },
    {
      "cell_type": "markdown",
      "source": [
        "## 6.3. Otimização de hiperparâmetros"
      ],
      "metadata": {
        "id": "uSJheHMfbW6P"
      }
    },
    {
      "cell_type": "markdown",
      "source": [
        "O modelo `CatBoostRegressor` funciona com *gradient boosting*, que é um processo em que, iterativamente, diferentes árvores de decisão são construídas. **Cada árvore posterior melhora a performance da árvore anterior.** Portanto, é um algorítmo baseado em árvore de decisão.\n",
        "\n",
        "> * **Vantagens:** lida com variáveis categóricas automaticamente e com dados ausentes, boa precisão na previsão dos dados e implementa mecanismos para evitar *overfitting*.\n",
        ">\n",
        "> * **Desvantagens:** possui muitos hiperparâmetros, o que por si não é ruim, mas pode ser mais demorado configurá-los, maior uso de memória que outros algorítmos de *boosting*."
      ],
      "metadata": {
        "id": "UcpsPIEDyZub"
      }
    },
    {
      "cell_type": "code",
      "source": [
        "# Definindo o pipeline para o CatBoostRegressor utilizando o mesmo pré-processamento:\n",
        "\n",
        "pipeline = Pipeline([\n",
        "    ('preprocessing', preprocessing),\n",
        "    ('regressor', CatBoostRegressor(verbose= False, loss_function= 'RMSE', random_state= RANDOM_SEED))\n",
        "])"
      ],
      "metadata": {
        "id": "WeAWC258cDvv"
      },
      "execution_count": 28,
      "outputs": []
    },
    {
      "cell_type": "markdown",
      "source": [
        "> O parâmetro **loss_function** determina qual a função de perda o modelo utilizará, ou seja, como o algorítmo será \"guiado\" para a sua otimização. No caso, é feita a escolha pela **raiz do erro quadrático médio (RMSE).**"
      ],
      "metadata": {
        "id": "6LTTacrY1cTP"
      }
    },
    {
      "cell_type": "code",
      "source": [
        "# Parâmetros que serão passados ao otimizador:\n",
        "\n",
        "param_grid = {\n",
        "    'regressor__depth': [x for x in range(1, 7)],\n",
        "    'regressor__learning_rate': [0.01, 0.01, 0.01, 1.0],\n",
        "    'regressor__l2_leaf_reg': [1, 3, 5],\n",
        "    'regressor__iterations': [100, 200, 300, 500, 1000]\n",
        "}"
      ],
      "metadata": {
        "id": "ZRGKT1prIxKc"
      },
      "execution_count": 29,
      "outputs": []
    },
    {
      "cell_type": "markdown",
      "source": [
        "O `RandomizedSearchCV` realiza **buscas aleatórias** no conjunto de hiperparâmetros definido. Como o conjunto testado é relativamente grande, uma busca com `GridSearchCV` ou `BayesSearchCV` talvez fosse mais exigente, o que tornaria a otimização mais lenta.  "
      ],
      "metadata": {
        "id": "sSlQIIxb4ITa"
      }
    },
    {
      "cell_type": "code",
      "source": [
        "# Execução da busca dos melhores hiperparâmetros:\n",
        "\n",
        "random_search = RandomizedSearchCV(pipeline, param_grid, cv= kfold, scoring= 'neg_root_mean_squared_error', random_state= RANDOM_SEED)"
      ],
      "metadata": {
        "id": "9JlIzTStR_4l"
      },
      "execution_count": 30,
      "outputs": []
    },
    {
      "cell_type": "code",
      "source": [
        "# Ajuste do modelo com dados de treino:\n",
        "\n",
        "random_search.fit(X_train, y_train)"
      ],
      "metadata": {
        "colab": {
          "base_uri": "https://localhost:8080/",
          "height": 218
        },
        "id": "PvQ2eA7ycuY9",
        "outputId": "280fb9b1-1552-4c29-d30d-a334e0c628d6"
      },
      "execution_count": 31,
      "outputs": [
        {
          "output_type": "execute_result",
          "data": {
            "text/plain": [
              "RandomizedSearchCV(cv=KFold(n_splits=5, random_state=42, shuffle=True),\n",
              "                   estimator=Pipeline(steps=[('preprocessing',\n",
              "                                              ColumnTransformer(transformers=[('categorical',\n",
              "                                                                               CatBoostEncoder(),\n",
              "                                                                               Index(['marca', 'modelo', 'versao', 'cambio', 'tipo', 'blindado', 'cor',\n",
              "       'tipo_vendedor', 'cidade_vendedor', 'estado_vendedor', 'anunciante'],\n",
              "      dtype='object')),\n",
              "                                                                              ('numerical',\n",
              "                                                                               MinMaxScale...\n",
              "                                                                               Index(['ano_modelo', 'hodometro', 'num_portas', 'troca'], dtype='object'))])),\n",
              "                                             ('regressor',\n",
              "                                              <catboost.core.CatBoostRegressor object at 0x791e57c65630>)]),\n",
              "                   param_distributions={'regressor__depth': [1, 2, 3, 4, 5, 6],\n",
              "                                        'regressor__iterations': [100, 200, 300,\n",
              "                                                                  500, 1000],\n",
              "                                        'regressor__l2_leaf_reg': [1, 3, 5],\n",
              "                                        'regressor__learning_rate': [0.01, 0.01,\n",
              "                                                                     0.01,\n",
              "                                                                     1.0]},\n",
              "                   random_state=42, scoring='neg_root_mean_squared_error')"
            ],
            "text/html": [
              "<style>#sk-container-id-1 {color: black;background-color: white;}#sk-container-id-1 pre{padding: 0;}#sk-container-id-1 div.sk-toggleable {background-color: white;}#sk-container-id-1 label.sk-toggleable__label {cursor: pointer;display: block;width: 100%;margin-bottom: 0;padding: 0.3em;box-sizing: border-box;text-align: center;}#sk-container-id-1 label.sk-toggleable__label-arrow:before {content: \"▸\";float: left;margin-right: 0.25em;color: #696969;}#sk-container-id-1 label.sk-toggleable__label-arrow:hover:before {color: black;}#sk-container-id-1 div.sk-estimator:hover label.sk-toggleable__label-arrow:before {color: black;}#sk-container-id-1 div.sk-toggleable__content {max-height: 0;max-width: 0;overflow: hidden;text-align: left;background-color: #f0f8ff;}#sk-container-id-1 div.sk-toggleable__content pre {margin: 0.2em;color: black;border-radius: 0.25em;background-color: #f0f8ff;}#sk-container-id-1 input.sk-toggleable__control:checked~div.sk-toggleable__content {max-height: 200px;max-width: 100%;overflow: auto;}#sk-container-id-1 input.sk-toggleable__control:checked~label.sk-toggleable__label-arrow:before {content: \"▾\";}#sk-container-id-1 div.sk-estimator input.sk-toggleable__control:checked~label.sk-toggleable__label {background-color: #d4ebff;}#sk-container-id-1 div.sk-label input.sk-toggleable__control:checked~label.sk-toggleable__label {background-color: #d4ebff;}#sk-container-id-1 input.sk-hidden--visually {border: 0;clip: rect(1px 1px 1px 1px);clip: rect(1px, 1px, 1px, 1px);height: 1px;margin: -1px;overflow: hidden;padding: 0;position: absolute;width: 1px;}#sk-container-id-1 div.sk-estimator {font-family: monospace;background-color: #f0f8ff;border: 1px dotted black;border-radius: 0.25em;box-sizing: border-box;margin-bottom: 0.5em;}#sk-container-id-1 div.sk-estimator:hover {background-color: #d4ebff;}#sk-container-id-1 div.sk-parallel-item::after {content: \"\";width: 100%;border-bottom: 1px solid gray;flex-grow: 1;}#sk-container-id-1 div.sk-label:hover label.sk-toggleable__label {background-color: #d4ebff;}#sk-container-id-1 div.sk-serial::before {content: \"\";position: absolute;border-left: 1px solid gray;box-sizing: border-box;top: 0;bottom: 0;left: 50%;z-index: 0;}#sk-container-id-1 div.sk-serial {display: flex;flex-direction: column;align-items: center;background-color: white;padding-right: 0.2em;padding-left: 0.2em;position: relative;}#sk-container-id-1 div.sk-item {position: relative;z-index: 1;}#sk-container-id-1 div.sk-parallel {display: flex;align-items: stretch;justify-content: center;background-color: white;position: relative;}#sk-container-id-1 div.sk-item::before, #sk-container-id-1 div.sk-parallel-item::before {content: \"\";position: absolute;border-left: 1px solid gray;box-sizing: border-box;top: 0;bottom: 0;left: 50%;z-index: -1;}#sk-container-id-1 div.sk-parallel-item {display: flex;flex-direction: column;z-index: 1;position: relative;background-color: white;}#sk-container-id-1 div.sk-parallel-item:first-child::after {align-self: flex-end;width: 50%;}#sk-container-id-1 div.sk-parallel-item:last-child::after {align-self: flex-start;width: 50%;}#sk-container-id-1 div.sk-parallel-item:only-child::after {width: 0;}#sk-container-id-1 div.sk-dashed-wrapped {border: 1px dashed gray;margin: 0 0.4em 0.5em 0.4em;box-sizing: border-box;padding-bottom: 0.4em;background-color: white;}#sk-container-id-1 div.sk-label label {font-family: monospace;font-weight: bold;display: inline-block;line-height: 1.2em;}#sk-container-id-1 div.sk-label-container {text-align: center;}#sk-container-id-1 div.sk-container {/* jupyter's `normalize.less` sets `[hidden] { display: none; }` but bootstrap.min.css set `[hidden] { display: none !important; }` so we also need the `!important` here to be able to override the default hidden behavior on the sphinx rendered scikit-learn.org. See: https://github.com/scikit-learn/scikit-learn/issues/21755 */display: inline-block !important;position: relative;}#sk-container-id-1 div.sk-text-repr-fallback {display: none;}</style><div id=\"sk-container-id-1\" class=\"sk-top-container\"><div class=\"sk-text-repr-fallback\"><pre>RandomizedSearchCV(cv=KFold(n_splits=5, random_state=42, shuffle=True),\n",
              "                   estimator=Pipeline(steps=[(&#x27;preprocessing&#x27;,\n",
              "                                              ColumnTransformer(transformers=[(&#x27;categorical&#x27;,\n",
              "                                                                               CatBoostEncoder(),\n",
              "                                                                               Index([&#x27;marca&#x27;, &#x27;modelo&#x27;, &#x27;versao&#x27;, &#x27;cambio&#x27;, &#x27;tipo&#x27;, &#x27;blindado&#x27;, &#x27;cor&#x27;,\n",
              "       &#x27;tipo_vendedor&#x27;, &#x27;cidade_vendedor&#x27;, &#x27;estado_vendedor&#x27;, &#x27;anunciante&#x27;],\n",
              "      dtype=&#x27;object&#x27;)),\n",
              "                                                                              (&#x27;numerical&#x27;,\n",
              "                                                                               MinMaxScale...\n",
              "                                                                               Index([&#x27;ano_modelo&#x27;, &#x27;hodometro&#x27;, &#x27;num_portas&#x27;, &#x27;troca&#x27;], dtype=&#x27;object&#x27;))])),\n",
              "                                             (&#x27;regressor&#x27;,\n",
              "                                              &lt;catboost.core.CatBoostRegressor object at 0x791e57c65630&gt;)]),\n",
              "                   param_distributions={&#x27;regressor__depth&#x27;: [1, 2, 3, 4, 5, 6],\n",
              "                                        &#x27;regressor__iterations&#x27;: [100, 200, 300,\n",
              "                                                                  500, 1000],\n",
              "                                        &#x27;regressor__l2_leaf_reg&#x27;: [1, 3, 5],\n",
              "                                        &#x27;regressor__learning_rate&#x27;: [0.01, 0.01,\n",
              "                                                                     0.01,\n",
              "                                                                     1.0]},\n",
              "                   random_state=42, scoring=&#x27;neg_root_mean_squared_error&#x27;)</pre><b>In a Jupyter environment, please rerun this cell to show the HTML representation or trust the notebook. <br />On GitHub, the HTML representation is unable to render, please try loading this page with nbviewer.org.</b></div><div class=\"sk-container\" hidden><div class=\"sk-item sk-dashed-wrapped\"><div class=\"sk-label-container\"><div class=\"sk-label sk-toggleable\"><input class=\"sk-toggleable__control sk-hidden--visually\" id=\"sk-estimator-id-1\" type=\"checkbox\" ><label for=\"sk-estimator-id-1\" class=\"sk-toggleable__label sk-toggleable__label-arrow\">RandomizedSearchCV</label><div class=\"sk-toggleable__content\"><pre>RandomizedSearchCV(cv=KFold(n_splits=5, random_state=42, shuffle=True),\n",
              "                   estimator=Pipeline(steps=[(&#x27;preprocessing&#x27;,\n",
              "                                              ColumnTransformer(transformers=[(&#x27;categorical&#x27;,\n",
              "                                                                               CatBoostEncoder(),\n",
              "                                                                               Index([&#x27;marca&#x27;, &#x27;modelo&#x27;, &#x27;versao&#x27;, &#x27;cambio&#x27;, &#x27;tipo&#x27;, &#x27;blindado&#x27;, &#x27;cor&#x27;,\n",
              "       &#x27;tipo_vendedor&#x27;, &#x27;cidade_vendedor&#x27;, &#x27;estado_vendedor&#x27;, &#x27;anunciante&#x27;],\n",
              "      dtype=&#x27;object&#x27;)),\n",
              "                                                                              (&#x27;numerical&#x27;,\n",
              "                                                                               MinMaxScale...\n",
              "                                                                               Index([&#x27;ano_modelo&#x27;, &#x27;hodometro&#x27;, &#x27;num_portas&#x27;, &#x27;troca&#x27;], dtype=&#x27;object&#x27;))])),\n",
              "                                             (&#x27;regressor&#x27;,\n",
              "                                              &lt;catboost.core.CatBoostRegressor object at 0x791e57c65630&gt;)]),\n",
              "                   param_distributions={&#x27;regressor__depth&#x27;: [1, 2, 3, 4, 5, 6],\n",
              "                                        &#x27;regressor__iterations&#x27;: [100, 200, 300,\n",
              "                                                                  500, 1000],\n",
              "                                        &#x27;regressor__l2_leaf_reg&#x27;: [1, 3, 5],\n",
              "                                        &#x27;regressor__learning_rate&#x27;: [0.01, 0.01,\n",
              "                                                                     0.01,\n",
              "                                                                     1.0]},\n",
              "                   random_state=42, scoring=&#x27;neg_root_mean_squared_error&#x27;)</pre></div></div></div><div class=\"sk-parallel\"><div class=\"sk-parallel-item\"><div class=\"sk-item\"><div class=\"sk-label-container\"><div class=\"sk-label sk-toggleable\"><input class=\"sk-toggleable__control sk-hidden--visually\" id=\"sk-estimator-id-2\" type=\"checkbox\" ><label for=\"sk-estimator-id-2\" class=\"sk-toggleable__label sk-toggleable__label-arrow\">estimator: Pipeline</label><div class=\"sk-toggleable__content\"><pre>Pipeline(steps=[(&#x27;preprocessing&#x27;,\n",
              "                 ColumnTransformer(transformers=[(&#x27;categorical&#x27;,\n",
              "                                                  CatBoostEncoder(),\n",
              "                                                  Index([&#x27;marca&#x27;, &#x27;modelo&#x27;, &#x27;versao&#x27;, &#x27;cambio&#x27;, &#x27;tipo&#x27;, &#x27;blindado&#x27;, &#x27;cor&#x27;,\n",
              "       &#x27;tipo_vendedor&#x27;, &#x27;cidade_vendedor&#x27;, &#x27;estado_vendedor&#x27;, &#x27;anunciante&#x27;],\n",
              "      dtype=&#x27;object&#x27;)),\n",
              "                                                 (&#x27;numerical&#x27;, MinMaxScaler(),\n",
              "                                                  Index([&#x27;ano_modelo&#x27;, &#x27;hodometro&#x27;, &#x27;num_portas&#x27;, &#x27;troca&#x27;], dtype=&#x27;object&#x27;))])),\n",
              "                (&#x27;regressor&#x27;,\n",
              "                 &lt;catboost.core.CatBoostRegressor object at 0x791e57c65630&gt;)])</pre></div></div></div><div class=\"sk-serial\"><div class=\"sk-item\"><div class=\"sk-serial\"><div class=\"sk-item sk-dashed-wrapped\"><div class=\"sk-label-container\"><div class=\"sk-label sk-toggleable\"><input class=\"sk-toggleable__control sk-hidden--visually\" id=\"sk-estimator-id-3\" type=\"checkbox\" ><label for=\"sk-estimator-id-3\" class=\"sk-toggleable__label sk-toggleable__label-arrow\">preprocessing: ColumnTransformer</label><div class=\"sk-toggleable__content\"><pre>ColumnTransformer(transformers=[(&#x27;categorical&#x27;, CatBoostEncoder(),\n",
              "                                 Index([&#x27;marca&#x27;, &#x27;modelo&#x27;, &#x27;versao&#x27;, &#x27;cambio&#x27;, &#x27;tipo&#x27;, &#x27;blindado&#x27;, &#x27;cor&#x27;,\n",
              "       &#x27;tipo_vendedor&#x27;, &#x27;cidade_vendedor&#x27;, &#x27;estado_vendedor&#x27;, &#x27;anunciante&#x27;],\n",
              "      dtype=&#x27;object&#x27;)),\n",
              "                                (&#x27;numerical&#x27;, MinMaxScaler(),\n",
              "                                 Index([&#x27;ano_modelo&#x27;, &#x27;hodometro&#x27;, &#x27;num_portas&#x27;, &#x27;troca&#x27;], dtype=&#x27;object&#x27;))])</pre></div></div></div><div class=\"sk-parallel\"><div class=\"sk-parallel-item\"><div class=\"sk-item\"><div class=\"sk-label-container\"><div class=\"sk-label sk-toggleable\"><input class=\"sk-toggleable__control sk-hidden--visually\" id=\"sk-estimator-id-4\" type=\"checkbox\" ><label for=\"sk-estimator-id-4\" class=\"sk-toggleable__label sk-toggleable__label-arrow\">categorical</label><div class=\"sk-toggleable__content\"><pre>Index([&#x27;marca&#x27;, &#x27;modelo&#x27;, &#x27;versao&#x27;, &#x27;cambio&#x27;, &#x27;tipo&#x27;, &#x27;blindado&#x27;, &#x27;cor&#x27;,\n",
              "       &#x27;tipo_vendedor&#x27;, &#x27;cidade_vendedor&#x27;, &#x27;estado_vendedor&#x27;, &#x27;anunciante&#x27;],\n",
              "      dtype=&#x27;object&#x27;)</pre></div></div></div><div class=\"sk-serial\"><div class=\"sk-item\"><div class=\"sk-estimator sk-toggleable\"><input class=\"sk-toggleable__control sk-hidden--visually\" id=\"sk-estimator-id-5\" type=\"checkbox\" ><label for=\"sk-estimator-id-5\" class=\"sk-toggleable__label sk-toggleable__label-arrow\">CatBoostEncoder</label><div class=\"sk-toggleable__content\"><pre>CatBoostEncoder()</pre></div></div></div></div></div></div><div class=\"sk-parallel-item\"><div class=\"sk-item\"><div class=\"sk-label-container\"><div class=\"sk-label sk-toggleable\"><input class=\"sk-toggleable__control sk-hidden--visually\" id=\"sk-estimator-id-6\" type=\"checkbox\" ><label for=\"sk-estimator-id-6\" class=\"sk-toggleable__label sk-toggleable__label-arrow\">numerical</label><div class=\"sk-toggleable__content\"><pre>Index([&#x27;ano_modelo&#x27;, &#x27;hodometro&#x27;, &#x27;num_portas&#x27;, &#x27;troca&#x27;], dtype=&#x27;object&#x27;)</pre></div></div></div><div class=\"sk-serial\"><div class=\"sk-item\"><div class=\"sk-estimator sk-toggleable\"><input class=\"sk-toggleable__control sk-hidden--visually\" id=\"sk-estimator-id-7\" type=\"checkbox\" ><label for=\"sk-estimator-id-7\" class=\"sk-toggleable__label sk-toggleable__label-arrow\">MinMaxScaler</label><div class=\"sk-toggleable__content\"><pre>MinMaxScaler()</pre></div></div></div></div></div></div></div></div><div class=\"sk-item\"><div class=\"sk-estimator sk-toggleable\"><input class=\"sk-toggleable__control sk-hidden--visually\" id=\"sk-estimator-id-8\" type=\"checkbox\" ><label for=\"sk-estimator-id-8\" class=\"sk-toggleable__label sk-toggleable__label-arrow\">CatBoostRegressor</label><div class=\"sk-toggleable__content\"><pre>&lt;catboost.core.CatBoostRegressor object at 0x791e57c65630&gt;</pre></div></div></div></div></div></div></div></div></div></div></div></div>"
            ]
          },
          "metadata": {},
          "execution_count": 31
        }
      ]
    },
    {
      "cell_type": "code",
      "source": [
        "# Retorna os melhores parâmetros:\n",
        "\n",
        "random_search.best_params_"
      ],
      "metadata": {
        "colab": {
          "base_uri": "https://localhost:8080/"
        },
        "id": "33Nchntjd-S6",
        "outputId": "6653c45a-a1be-42f4-c3eb-bfa210c41e15"
      },
      "execution_count": 32,
      "outputs": [
        {
          "output_type": "execute_result",
          "data": {
            "text/plain": [
              "{'regressor__learning_rate': 0.01,\n",
              " 'regressor__l2_leaf_reg': 5,\n",
              " 'regressor__iterations': 500,\n",
              " 'regressor__depth': 5}"
            ]
          },
          "metadata": {},
          "execution_count": 32
        }
      ]
    },
    {
      "cell_type": "code",
      "source": [
        "# Média dos scores obtidos na validação cruzada:\n",
        "\n",
        "random_search.cv_results_['mean_test_score']"
      ],
      "metadata": {
        "colab": {
          "base_uri": "https://localhost:8080/"
        },
        "id": "D1phzZlkwgq9",
        "outputId": "43e321cc-7d20-404a-8ec1-3fb77b852e89"
      },
      "execution_count": 33,
      "outputs": [
        {
          "output_type": "execute_result",
          "data": {
            "text/plain": [
              "array([-43773.81865894, -47917.6200393 , -43271.40942846, -52308.54421165,\n",
              "       -46149.85931696, -44253.60999806, -45011.80856589, -46149.85931696,\n",
              "       -52998.31953459, -55208.13075978])"
            ]
          },
          "metadata": {},
          "execution_count": 33
        }
      ]
    },
    {
      "cell_type": "markdown",
      "source": [
        "## 6.4. *Features importances*"
      ],
      "metadata": {
        "id": "E6zpqwTPDOpz"
      }
    },
    {
      "cell_type": "code",
      "source": [
        "# Para acessar o modelo ajustado:\n",
        "\n",
        "best_model = random_search.best_estimator_"
      ],
      "metadata": {
        "id": "NVyP9q-WDVKz"
      },
      "execution_count": 34,
      "outputs": []
    },
    {
      "cell_type": "code",
      "source": [
        "ax = sns.barplot(x= best_model.named_steps['regressor'].feature_importances_, y= X_train.columns)\n",
        "ax.set_title('Importância para cada variável')\n",
        "ax.set_ylabel('Variáveis')\n",
        "plt.show()"
      ],
      "metadata": {
        "colab": {
          "base_uri": "https://localhost:8080/",
          "height": 453
        },
        "id": "A9Gmo7_v5GTH",
        "outputId": "d3e34b02-a6f1-4e04-d4ae-c06ac570c477"
      },
      "execution_count": 35,
      "outputs": [
        {
          "output_type": "display_data",
          "data": {
            "text/plain": [
              "<Figure size 640x480 with 1 Axes>"
            ],
            "image/png": "[encoded data removed]"
          },
          "metadata": {}
        }
      ]
    },
    {
      "cell_type": "markdown",
      "source": [
        "## 6.5. Predição dos preços dos carros a partir dos dados de teste"
      ],
      "metadata": {
        "id": "-H4B6P6wEt-V"
      }
    },
    {
      "cell_type": "code",
      "source": [
        "# Os dados de teste são carregados:\n",
        "\n",
        "test_data = pd.read_csv(\n",
        "    '/content/drive/MyDrive/Lighthouse/cars_test.csv',\n",
        "    sep= '\\t', encoding= 'utf-16'\n",
        ")\n",
        "\n",
        "test_data.head()"
      ],
      "metadata": {
        "id": "78MUabNHe2Cn",
        "colab": {
          "base_uri": "https://localhost:8080/",
          "height": 525
        },
        "outputId": "43415416-5e29-4507-b505-ab518477fb60"
      },
      "execution_count": 36,
      "outputs": [
        {
          "output_type": "execute_result",
          "data": {
            "text/plain": [
              "                                        id  num_fotos      marca    modelo  \\\n",
              "0   13518783164498355150900635905895481162        8.0     NISSAN     VERSA   \n",
              "1  299896161723793383246777788797566040330       18.0       FIAT    STRADA   \n",
              "2  316180649972302128246133616457018378621        8.0       AUDI        Q5   \n",
              "3  222527157104148385909188217274642813298       16.0  CHEVROLET     CRUZE   \n",
              "4  160460343059850745858546502614838368036        8.0       FORD  ECOSPORT   \n",
              "\n",
              "                                 versao  ano_de_fabricacao  ano_modelo  \\\n",
              "0      1.6 16V FLEXSTART V-DRIVE MANUAL               2021      2021.0   \n",
              "1  1.4 MPI WORKING CS 8V FLEX 2P MANUAL               2021      2021.0   \n",
              "2      2.0 TFSI GASOLINA BLACK S TRONIC               2018      2019.0   \n",
              "3   1.4 TURBO LT 16V FLEX 4P AUTOMÁTICO               2019      2020.0   \n",
              "4         1.5 TI-VCT FLEX SE AUTOMÁTICO               2019      2019.0   \n",
              "\n",
              "   hodometro      cambio  num_portas  ...  troca elegivel_revisao  \\\n",
              "0    20258.0      Manual           4  ...  False            False   \n",
              "1    53045.0      Manual           2  ...  False            False   \n",
              "2    32486.0  Automática           4  ...  False            False   \n",
              "3    24937.0  Automática           4  ...  False            False   \n",
              "4    62074.0  Automática           4  ...  False            False   \n",
              "\n",
              "  dono_aceita_troca veiculo_único_dono revisoes_concessionaria  ipva_pago  \\\n",
              "0      Aceita troca                NaN                     NaN  IPVA pago   \n",
              "1      Aceita troca         Único dono                     NaN  IPVA pago   \n",
              "2      Aceita troca                NaN                     NaN  IPVA pago   \n",
              "3      Aceita troca         Único dono                     NaN  IPVA pago   \n",
              "4      Aceita troca                NaN                     NaN  IPVA pago   \n",
              "\n",
              "  veiculo_licenciado  garantia_de_fábrica  revisoes_dentro_agenda  \\\n",
              "0         Licenciado  Garantia de fábrica                     NaN   \n",
              "1         Licenciado                  NaN                     NaN   \n",
              "2                NaN                  NaN                     NaN   \n",
              "3         Licenciado                  NaN                     NaN   \n",
              "4         Licenciado                  NaN                     NaN   \n",
              "\n",
              "   veiculo_alienado  \n",
              "0               NaN  \n",
              "1               NaN  \n",
              "2               NaN  \n",
              "3               NaN  \n",
              "4               NaN  \n",
              "\n",
              "[5 rows x 28 columns]"
            ],
            "text/html": [
              "\n",
              "\n",
              "  <div id=\"df-9cfe5ac0-be95-4207-8440-903d270783bc\">\n",
              "    <div class=\"colab-df-container\">\n",
              "      <div>\n",
              "<style scoped>\n",
              "    .dataframe tbody tr th:only-of-type {\n",
              "        vertical-align: middle;\n",
              "    }\n",
              "\n",
              "    .dataframe tbody tr th {\n",
              "        vertical-align: top;\n",
              "    }\n",
              "\n",
              "    .dataframe thead th {\n",
              "        text-align: right;\n",
              "    }\n",
              "</style>\n",
              "<table border=\"1\" class=\"dataframe\">\n",
              "  <thead>\n",
              "    <tr style=\"text-align: right;\">\n",
              "      <th></th>\n",
              "      <th>id</th>\n",
              "      <th>num_fotos</th>\n",
              "      <th>marca</th>\n",
              "      <th>modelo</th>\n",
              "      <th>versao</th>\n",
              "      <th>ano_de_fabricacao</th>\n",
              "      <th>ano_modelo</th>\n",
              "      <th>hodometro</th>\n",
              "      <th>cambio</th>\n",
              "      <th>num_portas</th>\n",
              "      <th>...</th>\n",
              "      <th>troca</th>\n",
              "      <th>elegivel_revisao</th>\n",
              "      <th>dono_aceita_troca</th>\n",
              "      <th>veiculo_único_dono</th>\n",
              "      <th>revisoes_concessionaria</th>\n",
              "      <th>ipva_pago</th>\n",
              "      <th>veiculo_licenciado</th>\n",
              "      <th>garantia_de_fábrica</th>\n",
              "      <th>revisoes_dentro_agenda</th>\n",
              "      <th>veiculo_alienado</th>\n",
              "    </tr>\n",
              "  </thead>\n",
              "  <tbody>\n",
              "    <tr>\n",
              "      <th>0</th>\n",
              "      <td>13518783164498355150900635905895481162</td>\n",
              "      <td>8.0</td>\n",
              "      <td>NISSAN</td>\n",
              "      <td>VERSA</td>\n",
              "      <td>1.6 16V FLEXSTART V-DRIVE MANUAL</td>\n",
              "      <td>2021</td>\n",
              "      <td>2021.0</td>\n",
              "      <td>20258.0</td>\n",
              "      <td>Manual</td>\n",
              "      <td>4</td>\n",
              "      <td>...</td>\n",
              "      <td>False</td>\n",
              "      <td>False</td>\n",
              "      <td>Aceita troca</td>\n",
              "      <td>NaN</td>\n",
              "      <td>NaN</td>\n",
              "      <td>IPVA pago</td>\n",
              "      <td>Licenciado</td>\n",
              "      <td>Garantia de fábrica</td>\n",
              "      <td>NaN</td>\n",
              "      <td>NaN</td>\n",
              "    </tr>\n",
              "    <tr>\n",
              "      <th>1</th>\n",
              "      <td>299896161723793383246777788797566040330</td>\n",
              "      <td>18.0</td>\n",
              "      <td>FIAT</td>\n",
              "      <td>STRADA</td>\n",
              "      <td>1.4 MPI WORKING CS 8V FLEX 2P MANUAL</td>\n",
              "      <td>2021</td>\n",
              "      <td>2021.0</td>\n",
              "      <td>53045.0</td>\n",
              "      <td>Manual</td>\n",
              "      <td>2</td>\n",
              "      <td>...</td>\n",
              "      <td>False</td>\n",
              "      <td>False</td>\n",
              "      <td>Aceita troca</td>\n",
              "      <td>Único dono</td>\n",
              "      <td>NaN</td>\n",
              "      <td>IPVA pago</td>\n",
              "      <td>Licenciado</td>\n",
              "      <td>NaN</td>\n",
              "      <td>NaN</td>\n",
              "      <td>NaN</td>\n",
              "    </tr>\n",
              "    <tr>\n",
              "      <th>2</th>\n",
              "      <td>316180649972302128246133616457018378621</td>\n",
              "      <td>8.0</td>\n",
              "      <td>AUDI</td>\n",
              "      <td>Q5</td>\n",
              "      <td>2.0 TFSI GASOLINA BLACK S TRONIC</td>\n",
              "      <td>2018</td>\n",
              "      <td>2019.0</td>\n",
              "      <td>32486.0</td>\n",
              "      <td>Automática</td>\n",
              "      <td>4</td>\n",
              "      <td>...</td>\n",
              "      <td>False</td>\n",
              "      <td>False</td>\n",
              "      <td>Aceita troca</td>\n",
              "      <td>NaN</td>\n",
              "      <td>NaN</td>\n",
              "      <td>IPVA pago</td>\n",
              "      <td>NaN</td>\n",
              "      <td>NaN</td>\n",
              "      <td>NaN</td>\n",
              "      <td>NaN</td>\n",
              "    </tr>\n",
              "    <tr>\n",
              "      <th>3</th>\n",
              "      <td>222527157104148385909188217274642813298</td>\n",
              "      <td>16.0</td>\n",
              "      <td>CHEVROLET</td>\n",
              "      <td>CRUZE</td>\n",
              "      <td>1.4 TURBO LT 16V FLEX 4P AUTOMÁTICO</td>\n",
              "      <td>2019</td>\n",
              "      <td>2020.0</td>\n",
              "      <td>24937.0</td>\n",
              "      <td>Automática</td>\n",
              "      <td>4</td>\n",
              "      <td>...</td>\n",
              "      <td>False</td>\n",
              "      <td>False</td>\n",
              "      <td>Aceita troca</td>\n",
              "      <td>Único dono</td>\n",
              "      <td>NaN</td>\n",
              "      <td>IPVA pago</td>\n",
              "      <td>Licenciado</td>\n",
              "      <td>NaN</td>\n",
              "      <td>NaN</td>\n",
              "      <td>NaN</td>\n",
              "    </tr>\n",
              "    <tr>\n",
              "      <th>4</th>\n",
              "      <td>160460343059850745858546502614838368036</td>\n",
              "      <td>8.0</td>\n",
              "      <td>FORD</td>\n",
              "      <td>ECOSPORT</td>\n",
              "      <td>1.5 TI-VCT FLEX SE AUTOMÁTICO</td>\n",
              "      <td>2019</td>\n",
              "      <td>2019.0</td>\n",
              "      <td>62074.0</td>\n",
              "      <td>Automática</td>\n",
              "      <td>4</td>\n",
              "      <td>...</td>\n",
              "      <td>False</td>\n",
              "      <td>False</td>\n",
              "      <td>Aceita troca</td>\n",
              "      <td>NaN</td>\n",
              "      <td>NaN</td>\n",
              "      <td>IPVA pago</td>\n",
              "      <td>Licenciado</td>\n",
              "      <td>NaN</td>\n",
              "      <td>NaN</td>\n",
              "      <td>NaN</td>\n",
              "    </tr>\n",
              "  </tbody>\n",
              "</table>\n",
              "<p>5 rows × 28 columns</p>\n",
              "</div>\n",
              "      <button class=\"colab-df-convert\" onclick=\"convertToInteractive('df-9cfe5ac0-be95-4207-8440-903d270783bc')\"\n",
              "              title=\"Convert this dataframe to an interactive table.\"\n",
              "              style=\"display:none;\">\n",
              "\n",
              "  <svg xmlns=\"http://www.w3.org/2000/svg\" height=\"24px\"viewBox=\"0 0 24 24\"\n",
              "       width=\"24px\">\n",
              "    <path d=\"M0 0h24v24H0V0z\" fill=\"none\"/>\n",
              "    <path d=\"M18.56 5.44l.94 2.06.94-2.06 2.06-.94-2.06-.94-.94-2.06-.94 2.06-2.06.94zm-11 1L8.5 8.5l.94-2.06 2.06-.94-2.06-.94L8.5 2.5l-.94 2.06-2.06.94zm10 10l.94 2.06.94-2.06 2.06-.94-2.06-.94-.94-2.06-.94 2.06-2.06.94z\"/><path d=\"M17.41 7.96l-1.37-1.37c-.4-.4-.92-.59-1.43-.59-.52 0-1.04.2-1.43.59L10.3 9.45l-7.72 7.72c-.78.78-.78 2.05 0 2.83L4 21.41c.39.39.9.59 1.41.59.51 0 1.02-.2 1.41-.59l7.78-7.78 2.81-2.81c.8-.78.8-2.07 0-2.86zM5.41 20L4 18.59l7.72-7.72 1.47 1.35L5.41 20z\"/>\n",
              "  </svg>\n",
              "      </button>\n",
              "\n",
              "\n",
              "\n",
              "    <div id=\"df-2f02676b-4018-4d36-a94e-61f1d4a9128c\">\n",
              "      <button class=\"colab-df-quickchart\" onclick=\"quickchart('df-2f02676b-4018-4d36-a94e-61f1d4a9128c')\"\n",
              "              title=\"Suggest charts.\"\n",
              "              style=\"display:none;\">\n",
              "\n",
              "<svg xmlns=\"http://www.w3.org/2000/svg\" height=\"24px\"viewBox=\"0 0 24 24\"\n",
              "     width=\"24px\">\n",
              "    <g>\n",
              "        <path d=\"M19 3H5c-1.1 0-2 .9-2 2v14c0 1.1.9 2 2 2h14c1.1 0 2-.9 2-2V5c0-1.1-.9-2-2-2zM9 17H7v-7h2v7zm4 0h-2V7h2v10zm4 0h-2v-4h2v4z\"/>\n",
              "    </g>\n",
              "</svg>\n",
              "      </button>\n",
              "    </div>\n",
              "\n",
              "<style>\n",
              "  .colab-df-quickchart {\n",
              "    background-color: #E8F0FE;\n",
              "    border: none;\n",
              "    border-radius: 50%;\n",
              "    cursor: pointer;\n",
              "    display: none;\n",
              "    fill: #1967D2;\n",
              "    height: 32px;\n",
              "    padding: 0 0 0 0;\n",
              "    width: 32px;\n",
              "  }\n",
              "\n",
              "  .colab-df-quickchart:hover {\n",
              "    background-color: #E2EBFA;\n",
              "    box-shadow: 0px 1px 2px rgba(60, 64, 67, 0.3), 0px 1px 3px 1px rgba(60, 64, 67, 0.15);\n",
              "    fill: #174EA6;\n",
              "  }\n",
              "\n",
              "  [theme=dark] .colab-df-quickchart {\n",
              "    background-color: #3B4455;\n",
              "    fill: #D2E3FC;\n",
              "  }\n",
              "\n",
              "  [theme=dark] .colab-df-quickchart:hover {\n",
              "    background-color: #434B5C;\n",
              "    box-shadow: 0px 1px 3px 1px rgba(0, 0, 0, 0.15);\n",
              "    filter: drop-shadow(0px 1px 2px rgba(0, 0, 0, 0.3));\n",
              "    fill: #FFFFFF;\n",
              "  }\n",
              "</style>\n",
              "\n",
              "    <script>\n",
              "      async function quickchart(key) {\n",
              "        const containerElement = document.querySelector('#' + key);\n",
              "        const charts = await google.colab.kernel.invokeFunction(\n",
              "            'suggestCharts', [key], {});\n",
              "      }\n",
              "    </script>\n",
              "\n",
              "      <script>\n",
              "\n",
              "function displayQuickchartButton(domScope) {\n",
              "  let quickchartButtonEl =\n",
              "    domScope.querySelector('#df-2f02676b-4018-4d36-a94e-61f1d4a9128c button.colab-df-quickchart');\n",
              "  quickchartButtonEl.style.display =\n",
              "    google.colab.kernel.accessAllowed ? 'block' : 'none';\n",
              "}\n",
              "\n",
              "        displayQuickchartButton(document);\n",
              "      </script>\n",
              "      <style>\n",
              "    .colab-df-container {\n",
              "      display:flex;\n",
              "      flex-wrap:wrap;\n",
              "      gap: 12px;\n",
              "    }\n",
              "\n",
              "    .colab-df-convert {\n",
              "      background-color: #E8F0FE;\n",
              "      border: none;\n",
              "      border-radius: 50%;\n",
              "      cursor: pointer;\n",
              "      display: none;\n",
              "      fill: #1967D2;\n",
              "      height: 32px;\n",
              "      padding: 0 0 0 0;\n",
              "      width: 32px;\n",
              "    }\n",
              "\n",
              "    .colab-df-convert:hover {\n",
              "      background-color: #E2EBFA;\n",
              "      box-shadow: 0px 1px 2px rgba(60, 64, 67, 0.3), 0px 1px 3px 1px rgba(60, 64, 67, 0.15);\n",
              "      fill: #174EA6;\n",
              "    }\n",
              "\n",
              "    [theme=dark] .colab-df-convert {\n",
              "      background-color: #3B4455;\n",
              "      fill: #D2E3FC;\n",
              "    }\n",
              "\n",
              "    [theme=dark] .colab-df-convert:hover {\n",
              "      background-color: #434B5C;\n",
              "      box-shadow: 0px 1px 3px 1px rgba(0, 0, 0, 0.15);\n",
              "      filter: drop-shadow(0px 1px 2px rgba(0, 0, 0, 0.3));\n",
              "      fill: #FFFFFF;\n",
              "    }\n",
              "  </style>\n",
              "\n",
              "      <script>\n",
              "        const buttonEl =\n",
              "          document.querySelector('#df-9cfe5ac0-be95-4207-8440-903d270783bc button.colab-df-convert');\n",
              "        buttonEl.style.display =\n",
              "          google.colab.kernel.accessAllowed ? 'block' : 'none';\n",
              "\n",
              "        async function convertToInteractive(key) {\n",
              "          const element = document.querySelector('#df-9cfe5ac0-be95-4207-8440-903d270783bc');\n",
              "          const dataTable =\n",
              "            await google.colab.kernel.invokeFunction('convertToInteractive',\n",
              "                                                     [key], {});\n",
              "          if (!dataTable) return;\n",
              "\n",
              "          const docLinkHtml = 'Like what you see? Visit the ' +\n",
              "            '<a target=\"_blank\" href=https://colab.research.google.com/notebooks/data_table.ipynb>data table notebook</a>'\n",
              "            + ' to learn more about interactive tables.';\n",
              "          element.innerHTML = '';\n",
              "          dataTable['output_type'] = 'display_data';\n",
              "          await google.colab.output.renderOutput(dataTable, element);\n",
              "          const docLink = document.createElement('div');\n",
              "          docLink.innerHTML = docLinkHtml;\n",
              "          element.appendChild(docLink);\n",
              "        }\n",
              "      </script>\n",
              "    </div>\n",
              "  </div>\n"
            ]
          },
          "metadata": {},
          "execution_count": 36
        }
      ]
    },
    {
      "cell_type": "code",
      "source": [
        "# Dimensão dos dados de teste:\n",
        "\n",
        "test_data.shape"
      ],
      "metadata": {
        "colab": {
          "base_uri": "https://localhost:8080/"
        },
        "id": "bN4A5kD2LEsh",
        "outputId": "64d7be33-a1b3-420e-bf2d-3865bd0900f4"
      },
      "execution_count": 37,
      "outputs": [
        {
          "output_type": "execute_result",
          "data": {
            "text/plain": [
              "(9862, 28)"
            ]
          },
          "metadata": {},
          "execution_count": 37
        }
      ]
    },
    {
      "cell_type": "markdown",
      "source": [
        "Os mesmos tratamentos realizados nos dados de treino devem ser feitos nos dados de teste:"
      ],
      "metadata": {
        "id": "_dPyGFuNFEMn"
      }
    },
    {
      "cell_type": "code",
      "source": [
        "# Criação de coluna com a diferença entre ano do modelo e ano de fabricação:\n",
        "\n",
        "test_data['diferenca'] = test_data['ano_modelo'] - test_data['ano_de_fabricacao']\n",
        "\n",
        "# Selecionam-se apenas os dados de veículos com 1 ano ou menos de diferença e com nº de portas diferente de 3:\n",
        "\n",
        "test_data = test_data.query('diferenca <= 1 and num_portas != 3')\n",
        "\n",
        "# A coluna criada é removida:\n",
        "\n",
        "test_data = test_data.drop('diferenca', axis= 1)\n",
        "\n",
        "test_data.shape # e as dimensões do dataframe mostradas."
      ],
      "metadata": {
        "colab": {
          "base_uri": "https://localhost:8080/"
        },
        "id": "Na_T-wl3K0W4",
        "outputId": "7576e475-82c5-4a30-e3a4-1cf77d98ef40"
      },
      "execution_count": 38,
      "outputs": [
        {
          "output_type": "execute_result",
          "data": {
            "text/plain": [
              "(8711, 28)"
            ]
          },
          "metadata": {},
          "execution_count": 38
        }
      ]
    },
    {
      "cell_type": "markdown",
      "source": [
        "A variável `id` é persistida, visto que farão parte dos dados que devem ser exportados após a previsão dos valores dos carros:"
      ],
      "metadata": {
        "id": "erN_e2AtGNX6"
      }
    },
    {
      "cell_type": "code",
      "source": [
        "id = test_data['id']"
      ],
      "metadata": {
        "id": "HMUHmeTRGX8G"
      },
      "execution_count": 39,
      "outputs": []
    },
    {
      "cell_type": "code",
      "source": [
        "# Todas as colunas que foram removidas nos dados de treino também são removidas dos dados de teste:\n",
        "\n",
        "colunas_para_drop = [\n",
        "    'dono_aceita_troca', 'veiculo_único_dono', 'revisoes_concessionaria',\n",
        "    'ipva_pago', 'veiculo_licenciado', 'garantia_de_fábrica', 'revisoes_dentro_agenda',\n",
        "    'veiculo_alienado', 'elegivel_revisao', 'ano_de_fabricacao', 'entrega_delivery',\n",
        "    'id', 'num_fotos'\n",
        "]\n",
        "\n",
        "X_test = test_data.drop(colunas_para_drop, axis= 1)"
      ],
      "metadata": {
        "id": "E5-BT2YWfejR"
      },
      "execution_count": 40,
      "outputs": []
    },
    {
      "cell_type": "markdown",
      "source": [
        "O modelo ajustado com os dados de treino é utilizado para prever dados a partir do `X_test`, lembrando que o arquivo com dados de teste não contém a variável alvo."
      ],
      "metadata": {
        "id": "C1uZ79FJF5mX"
      }
    },
    {
      "cell_type": "code",
      "source": [
        "y_pred = random_search.predict(X_test)"
      ],
      "metadata": {
        "id": "-_tE2vUagT2z"
      },
      "execution_count": 41,
      "outputs": []
    },
    {
      "cell_type": "code",
      "source": [
        "# Um dataframe com os preços preditos é instanciado:\n",
        "\n",
        "precos_preditos = pd.DataFrame({'id': id, 'predicted': y_pred})\n",
        "precos_preditos.head(10)"
      ],
      "metadata": {
        "colab": {
          "base_uri": "https://localhost:8080/",
          "height": 363
        },
        "id": "71frhiEKf1jx",
        "outputId": "3d082737-c453-4e8b-a886-265bf519c330"
      },
      "execution_count": 42,
      "outputs": [
        {
          "output_type": "execute_result",
          "data": {
            "text/plain": [
              "                                        id      predicted\n",
              "0   13518783164498355150900635905895481162   78813.545418\n",
              "1  299896161723793383246777788797566040330   75187.940718\n",
              "2  316180649972302128246133616457018378621  245036.260401\n",
              "3  222527157104148385909188217274642813298   90582.862054\n",
              "4  160460343059850745858546502614838368036   96272.989438\n",
              "5  262727202368986244371977784343233436999   69504.554025\n",
              "6  254093764205800086330999281077926851120  137123.669155\n",
              "7   26118184613036116787803832945215674478  225906.542826\n",
              "8     216524630140335566712794225427064313  225875.418686\n",
              "9  185631381169816366226494379020452029389  311512.442812"
            ],
            "text/html": [
              "\n",
              "\n",
              "  <div id=\"df-9d9d41d8-3dac-4636-a719-0d6782c96ff2\">\n",
              "    <div class=\"colab-df-container\">\n",
              "      <div>\n",
              "<style scoped>\n",
              "    .dataframe tbody tr th:only-of-type {\n",
              "        vertical-align: middle;\n",
              "    }\n",
              "\n",
              "    .dataframe tbody tr th {\n",
              "        vertical-align: top;\n",
              "    }\n",
              "\n",
              "    .dataframe thead th {\n",
              "        text-align: right;\n",
              "    }\n",
              "</style>\n",
              "<table border=\"1\" class=\"dataframe\">\n",
              "  <thead>\n",
              "    <tr style=\"text-align: right;\">\n",
              "      <th></th>\n",
              "      <th>id</th>\n",
              "      <th>predicted</th>\n",
              "    </tr>\n",
              "  </thead>\n",
              "  <tbody>\n",
              "    <tr>\n",
              "      <th>0</th>\n",
              "      <td>13518783164498355150900635905895481162</td>\n",
              "      <td>78813.545418</td>\n",
              "    </tr>\n",
              "    <tr>\n",
              "      <th>1</th>\n",
              "      <td>299896161723793383246777788797566040330</td>\n",
              "      <td>75187.940718</td>\n",
              "    </tr>\n",
              "    <tr>\n",
              "      <th>2</th>\n",
              "      <td>316180649972302128246133616457018378621</td>\n",
              "      <td>245036.260401</td>\n",
              "    </tr>\n",
              "    <tr>\n",
              "      <th>3</th>\n",
              "      <td>222527157104148385909188217274642813298</td>\n",
              "      <td>90582.862054</td>\n",
              "    </tr>\n",
              "    <tr>\n",
              "      <th>4</th>\n",
              "      <td>160460343059850745858546502614838368036</td>\n",
              "      <td>96272.989438</td>\n",
              "    </tr>\n",
              "    <tr>\n",
              "      <th>5</th>\n",
              "      <td>262727202368986244371977784343233436999</td>\n",
              "      <td>69504.554025</td>\n",
              "    </tr>\n",
              "    <tr>\n",
              "      <th>6</th>\n",
              "      <td>254093764205800086330999281077926851120</td>\n",
              "      <td>137123.669155</td>\n",
              "    </tr>\n",
              "    <tr>\n",
              "      <th>7</th>\n",
              "      <td>26118184613036116787803832945215674478</td>\n",
              "      <td>225906.542826</td>\n",
              "    </tr>\n",
              "    <tr>\n",
              "      <th>8</th>\n",
              "      <td>216524630140335566712794225427064313</td>\n",
              "      <td>225875.418686</td>\n",
              "    </tr>\n",
              "    <tr>\n",
              "      <th>9</th>\n",
              "      <td>185631381169816366226494379020452029389</td>\n",
              "      <td>311512.442812</td>\n",
              "    </tr>\n",
              "  </tbody>\n",
              "</table>\n",
              "</div>\n",
              "      <button class=\"colab-df-convert\" onclick=\"convertToInteractive('df-9d9d41d8-3dac-4636-a719-0d6782c96ff2')\"\n",
              "              title=\"Convert this dataframe to an interactive table.\"\n",
              "              style=\"display:none;\">\n",
              "\n",
              "  <svg xmlns=\"http://www.w3.org/2000/svg\" height=\"24px\"viewBox=\"0 0 24 24\"\n",
              "       width=\"24px\">\n",
              "    <path d=\"M0 0h24v24H0V0z\" fill=\"none\"/>\n",
              "    <path d=\"M18.56 5.44l.94 2.06.94-2.06 2.06-.94-2.06-.94-.94-2.06-.94 2.06-2.06.94zm-11 1L8.5 8.5l.94-2.06 2.06-.94-2.06-.94L8.5 2.5l-.94 2.06-2.06.94zm10 10l.94 2.06.94-2.06 2.06-.94-2.06-.94-.94-2.06-.94 2.06-2.06.94z\"/><path d=\"M17.41 7.96l-1.37-1.37c-.4-.4-.92-.59-1.43-.59-.52 0-1.04.2-1.43.59L10.3 9.45l-7.72 7.72c-.78.78-.78 2.05 0 2.83L4 21.41c.39.39.9.59 1.41.59.51 0 1.02-.2 1.41-.59l7.78-7.78 2.81-2.81c.8-.78.8-2.07 0-2.86zM5.41 20L4 18.59l7.72-7.72 1.47 1.35L5.41 20z\"/>\n",
              "  </svg>\n",
              "      </button>\n",
              "\n",
              "\n",
              "\n",
              "    <div id=\"df-0e3bc078-c252-476a-a6af-0902a1d0e693\">\n",
              "      <button class=\"colab-df-quickchart\" onclick=\"quickchart('df-0e3bc078-c252-476a-a6af-0902a1d0e693')\"\n",
              "              title=\"Suggest charts.\"\n",
              "              style=\"display:none;\">\n",
              "\n",
              "<svg xmlns=\"http://www.w3.org/2000/svg\" height=\"24px\"viewBox=\"0 0 24 24\"\n",
              "     width=\"24px\">\n",
              "    <g>\n",
              "        <path d=\"M19 3H5c-1.1 0-2 .9-2 2v14c0 1.1.9 2 2 2h14c1.1 0 2-.9 2-2V5c0-1.1-.9-2-2-2zM9 17H7v-7h2v7zm4 0h-2V7h2v10zm4 0h-2v-4h2v4z\"/>\n",
              "    </g>\n",
              "</svg>\n",
              "      </button>\n",
              "    </div>\n",
              "\n",
              "<style>\n",
              "  .colab-df-quickchart {\n",
              "    background-color: #E8F0FE;\n",
              "    border: none;\n",
              "    border-radius: 50%;\n",
              "    cursor: pointer;\n",
              "    display: none;\n",
              "    fill: #1967D2;\n",
              "    height: 32px;\n",
              "    padding: 0 0 0 0;\n",
              "    width: 32px;\n",
              "  }\n",
              "\n",
              "  .colab-df-quickchart:hover {\n",
              "    background-color: #E2EBFA;\n",
              "    box-shadow: 0px 1px 2px rgba(60, 64, 67, 0.3), 0px 1px 3px 1px rgba(60, 64, 67, 0.15);\n",
              "    fill: #174EA6;\n",
              "  }\n",
              "\n",
              "  [theme=dark] .colab-df-quickchart {\n",
              "    background-color: #3B4455;\n",
              "    fill: #D2E3FC;\n",
              "  }\n",
              "\n",
              "  [theme=dark] .colab-df-quickchart:hover {\n",
              "    background-color: #434B5C;\n",
              "    box-shadow: 0px 1px 3px 1px rgba(0, 0, 0, 0.15);\n",
              "    filter: drop-shadow(0px 1px 2px rgba(0, 0, 0, 0.3));\n",
              "    fill: #FFFFFF;\n",
              "  }\n",
              "</style>\n",
              "\n",
              "    <script>\n",
              "      async function quickchart(key) {\n",
              "        const containerElement = document.querySelector('#' + key);\n",
              "        const charts = await google.colab.kernel.invokeFunction(\n",
              "            'suggestCharts', [key], {});\n",
              "      }\n",
              "    </script>\n",
              "\n",
              "      <script>\n",
              "\n",
              "function displayQuickchartButton(domScope) {\n",
              "  let quickchartButtonEl =\n",
              "    domScope.querySelector('#df-0e3bc078-c252-476a-a6af-0902a1d0e693 button.colab-df-quickchart');\n",
              "  quickchartButtonEl.style.display =\n",
              "    google.colab.kernel.accessAllowed ? 'block' : 'none';\n",
              "}\n",
              "\n",
              "        displayQuickchartButton(document);\n",
              "      </script>\n",
              "      <style>\n",
              "    .colab-df-container {\n",
              "      display:flex;\n",
              "      flex-wrap:wrap;\n",
              "      gap: 12px;\n",
              "    }\n",
              "\n",
              "    .colab-df-convert {\n",
              "      background-color: #E8F0FE;\n",
              "      border: none;\n",
              "      border-radius: 50%;\n",
              "      cursor: pointer;\n",
              "      display: none;\n",
              "      fill: #1967D2;\n",
              "      height: 32px;\n",
              "      padding: 0 0 0 0;\n",
              "      width: 32px;\n",
              "    }\n",
              "\n",
              "    .colab-df-convert:hover {\n",
              "      background-color: #E2EBFA;\n",
              "      box-shadow: 0px 1px 2px rgba(60, 64, 67, 0.3), 0px 1px 3px 1px rgba(60, 64, 67, 0.15);\n",
              "      fill: #174EA6;\n",
              "    }\n",
              "\n",
              "    [theme=dark] .colab-df-convert {\n",
              "      background-color: #3B4455;\n",
              "      fill: #D2E3FC;\n",
              "    }\n",
              "\n",
              "    [theme=dark] .colab-df-convert:hover {\n",
              "      background-color: #434B5C;\n",
              "      box-shadow: 0px 1px 3px 1px rgba(0, 0, 0, 0.15);\n",
              "      filter: drop-shadow(0px 1px 2px rgba(0, 0, 0, 0.3));\n",
              "      fill: #FFFFFF;\n",
              "    }\n",
              "  </style>\n",
              "\n",
              "      <script>\n",
              "        const buttonEl =\n",
              "          document.querySelector('#df-9d9d41d8-3dac-4636-a719-0d6782c96ff2 button.colab-df-convert');\n",
              "        buttonEl.style.display =\n",
              "          google.colab.kernel.accessAllowed ? 'block' : 'none';\n",
              "\n",
              "        async function convertToInteractive(key) {\n",
              "          const element = document.querySelector('#df-9d9d41d8-3dac-4636-a719-0d6782c96ff2');\n",
              "          const dataTable =\n",
              "            await google.colab.kernel.invokeFunction('convertToInteractive',\n",
              "                                                     [key], {});\n",
              "          if (!dataTable) return;\n",
              "\n",
              "          const docLinkHtml = 'Like what you see? Visit the ' +\n",
              "            '<a target=\"_blank\" href=https://colab.research.google.com/notebooks/data_table.ipynb>data table notebook</a>'\n",
              "            + ' to learn more about interactive tables.';\n",
              "          element.innerHTML = '';\n",
              "          dataTable['output_type'] = 'display_data';\n",
              "          await google.colab.output.renderOutput(dataTable, element);\n",
              "          const docLink = document.createElement('div');\n",
              "          docLink.innerHTML = docLinkHtml;\n",
              "          element.appendChild(docLink);\n",
              "        }\n",
              "      </script>\n",
              "    </div>\n",
              "  </div>\n"
            ]
          },
          "metadata": {},
          "execution_count": 42
        }
      ]
    },
    {
      "cell_type": "code",
      "source": [
        "precos_preditos.shape"
      ],
      "metadata": {
        "colab": {
          "base_uri": "https://localhost:8080/"
        },
        "id": "tw2mwpcjIa4f",
        "outputId": "7ec1f18d-78e2-4c12-b7b4-25066ca26880"
      },
      "execution_count": 43,
      "outputs": [
        {
          "output_type": "execute_result",
          "data": {
            "text/plain": [
              "(8711, 2)"
            ]
          },
          "metadata": {},
          "execution_count": 43
        }
      ]
    },
    {
      "cell_type": "markdown",
      "source": [
        "# 7. Exportação dos dados"
      ],
      "metadata": {
        "id": "WF_FGCnuHlEx"
      }
    },
    {
      "cell_type": "code",
      "source": [
        "precos_preditos.to_csv('predicted.csv', sep=',', index= False, encoding= 'utf-8')"
      ],
      "metadata": {
        "id": "rtC0k6G9HnwX"
      },
      "execution_count": 44,
      "outputs": []
    }
  ]
}